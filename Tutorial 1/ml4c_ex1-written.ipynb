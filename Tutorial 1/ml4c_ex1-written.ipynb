{
 "cells": [
  {
   "cell_type": "markdown",
   "metadata": {
    "colab_type": "text",
    "id": "SKJC5ba-oTLC"
   },
   "source": [
    "$\n",
    "\\DeclareMathOperator{\\Prob}{Pr}\n",
    "\\renewcommand{\\vec}[1]{{\\underline{#1}}}\n",
    "\\newcommand{\\dott}[2]{{{#1}^T{#2}}}\n",
    "\\newcommand{\\mat}[1]{{\\mathbf{#1}}}\n",
    "$\n",
    "\n",
    "# Programming Exercises - Set 1\n",
    "This exercise set regards linear regression. You are given one one-dimensional data set **dataset1_linreg.py**. Please import the file to the notebook (click on the arrow on the right side of the screen to open a menu. In the menu, go to Files. Select upload and upload the dataset file to the colab. Now the file can be used in the notebook). We are going to use the *gradient descent* (GD) algorithm during all exercises. For each of the exercises you may have to adjust the number of iterations and the step size of the GD to get a good performance. One technique to verify if the GD is behaving properly is to plot the cost versus the number of iterations. For plotting we will use *matplotlib* library (and Python3). During implementation and debugging it is helpful to carefully observe the dimensions of the objects which enter/leave the calculations.\n",
    "\n",
    "For code brevity, we are going to use slightly different notation than during the lecture. Instead of the separate bias term $b$ in the linear regression, i.e.,\n",
    "\\begin{align}\n",
    "z & = \\sum_{k=1}^{M} w_k x_k + b \\\\\n",
    "& =  \\dott{\\vec{w}}{\\vec{x}} + b,\n",
    "\\end{align}\n",
    "we are going to replace $b$ with $w_0$ and store it inside the parameters vector $\\vec{w}$. It may be conveninet to exted the data vector $\\vec{x}$ by additional one for some calculations. That is, you may use the following notation\n",
    "\\begin{align}\n",
    "z & = \\sum_{k=1}^{M} w_k x_k + w_0 \\\\\n",
    "&=\n",
    "\\begin{bmatrix}\n",
    "w_0 w_1 \\dots w_M \n",
    "\\end{bmatrix}\n",
    "\\begin{bmatrix}\n",
    "1 \\\\\n",
    "x_1 \\\\\n",
    "\\vdots \\\\\n",
    "x_M \\\\\n",
    "\\end{bmatrix} \\\\\n",
    "& =  \\dott{\\vec{w}}{\\vec{x}}.\n",
    "\\end{align}\n",
    "The inputs in the dataset are organized as a matrix:\n",
    "\\begin{align}\n",
    "\\begin{bmatrix}\n",
    "&\\vec{x}_1 &\\dots &\\vec{x}_N\n",
    "\\end{bmatrix},\n",
    "\\end{align}\n",
    "and the output in the dataset are organized as a matrix: \n",
    "\\begin{align}\n",
    "\\begin{bmatrix}\n",
    "&y_1 &\\dots &y_N\n",
    "\\end{bmatrix}.\n",
    "\\end{align}"
   ]
  },
  {
   "cell_type": "markdown",
   "metadata": {
    "colab_type": "text",
    "id": "wdXi8UdjfUfE"
   },
   "source": [
    "## Problem 1 - Linear Regression\n",
    "We start from importing the data set and ploting the data points. The problem we aim to solve is linear regression. That is, we want to develop a model for predicting the values $y \\in \\mathcal{R}$ from the data $x \\in \\mathcal{R}$. The plot presents also the ground truth, that is, the function from which the training samples were generated (samples also contain extra noise)."
   ]
  },
  {
   "cell_type": "code",
   "execution_count": 10,
   "metadata": {
    "colab": {
     "base_uri": "https://localhost:8080/",
     "height": 282
    },
    "colab_type": "code",
    "id": "XitN8JyJvFrV",
    "outputId": "e5102715-d0d9-49b5-8ecd-0d25efb9571d"
   },
   "outputs": [
    {
     "name": "stdout",
     "output_type": "stream",
     "text": [
      "[[0.29467 0.53059 0.19152 0.0679  0.78699 0.65633 0.63752 0.5756  0.03906 0.35781]]\n"
     ]
    },
    {
     "data": {
      "image/png": "[encoded data removed]",
      "text/plain": [
       "<Figure size 432x288 with 1 Axes>"
      ]
     },
     "metadata": {
      "tags": []
     },
     "output_type": "display_data"
    }
   ],
   "source": [
    "import numpy as np\n",
    "import matplotlib.pyplot as plt\n",
    "from dataset1_linreg import DataSet\n",
    "\n",
    "#import data, plot data\n",
    "y_D, x_D = DataSet.get_data()\n",
    "DataSet.plot_data()"
   ]
  },
  {
   "cell_type": "markdown",
   "metadata": {
    "colab_type": "text",
    "id": "JT5rfsfSZ1GC"
   },
   "source": [
    "\n",
    "1. Initialize a variable `w` which contains the model parameters. `w` should be a numpy array of dimensions (2,1), i.e., a column vector. `w[0][0]` $= w_0$ and `w[1][0]` $= w_1$.  Use $w_0 = w_1 = 0.1$. (you can use the `type` method and `shape` property of numpy array to check if the variavble is of the expected type and shape)"
   ]
  },
  {
   "cell_type": "code",
   "execution_count": 0,
   "metadata": {
    "colab": {},
    "colab_type": "code",
    "id": "3zf3KKxGbba6"
   },
   "outputs": [],
   "source": [
    "# w = ...\n"
   ]
  },
  {
   "cell_type": "markdown",
   "metadata": {
    "colab_type": "text",
    "id": "mCay_aM6b96B"
   },
   "source": [
    "2. Implement a function `predict_y1`, which takes an array of inputs $[x_1 \\dots x_n]$ and produces an array of correspoding outputs $[a(x_1) \\dots a(x_n)]$. Use the model $a(x) =w_1x+w_0$. The input is a numpy array of size $(M=1,n)$ and the output is a numpy array of size $(1,n)$. In the function you can use the global variable `w` containing the model parameters (from the previous point). In this case, the model will be automaticly updated when the value of `w` changes."
   ]
  },
  {
   "cell_type": "code",
   "execution_count": 0,
   "metadata": {
    "colab": {},
    "colab_type": "code",
    "id": "Esrzcd4pdOgA"
   },
   "outputs": [],
   "source": [
    "def predict_y1(x_arr):\n",
    "  # a = ... \n",
    "  \n",
    "  \n",
    "  return a "
   ]
  },
  {
   "cell_type": "markdown",
   "metadata": {
    "colab_type": "text",
    "id": "wBccDp-Pd5G4"
   },
   "source": [
    "We plot the implemented model. If everything went right you should obtain the line $y=0.1x+0.1$ representing the model.\n",
    "\n",
    "\n"
   ]
  },
  {
   "cell_type": "code",
   "execution_count": 0,
   "metadata": {
    "colab": {},
    "colab_type": "code",
    "id": "3HcyjBvPeE0X"
   },
   "outputs": [],
   "source": [
    "DataSet.plot_model(predict_y1)\n"
   ]
  },
  {
   "cell_type": "markdown",
   "metadata": {
    "colab_type": "text",
    "id": "ZKCZ1I91fimf"
   },
   "source": [
    "3. Implement a function `l2_cost` computing the quadratic cost for a given model. The inputs to the function are: `x_arr` = a numpy array of size $(1,n)$ containing inputs to the model; `y_arr` = a numpy array of size $(1,n)$ containing the correspoding outputs from the data set; `predict_f` = a function handle which represents the model (eg. a function `predict_y1`)."
   ]
  },
  {
   "cell_type": "code",
   "execution_count": 0,
   "metadata": {
    "colab": {},
    "colab_type": "code",
    "id": "PC5-AGTYgKRH"
   },
   "outputs": [],
   "source": [
    "def l2_cost(x_arr, y_arr, predict_f):\n",
    "    \n",
    "    a = predict_f(x_arr)\n",
    "    cost = 0.5 * np.sum( (a-y_arr)**2 )    \n",
    "    \n",
    "    return cost"
   ]
  },
  {
   "cell_type": "markdown",
   "metadata": {
    "colab_type": "text",
    "id": "O1Y4buajh06n"
   },
   "source": [
    "We compute cost for the initialized model. (the cost should be around $3.36$ or of a similar magnitude if you used a different scaling than $0.5$ for the cost function)."
   ]
  },
  {
   "cell_type": "code",
   "execution_count": 0,
   "metadata": {
    "colab": {},
    "colab_type": "code",
    "id": "-12gzZ4SiJo-"
   },
   "outputs": [],
   "source": [
    "print('cost: %.3f' % l2_cost(x_D, y_D, predict_y1))  "
   ]
  },
  {
   "cell_type": "markdown",
   "metadata": {
    "colab_type": "text",
    "id": "H40UPwpkLAMp"
   },
   "source": [
    "4. Compute the gradient for the current set of parameters. The gradient should be a vector of the same size as the vector `w` and should contain partial derivatives for the correspoding parameters. When correctly implemented you should obtain a vector $\\nabla  w \\approx [1.229, 2.231]^T$ (or something parallel if you used a different scaling than  0.5  for the cost function)."
   ]
  },
  {
   "cell_type": "code",
   "execution_count": 0,
   "metadata": {
    "colab": {},
    "colab_type": "code",
    "id": "-kO9QsioLswh"
   },
   "outputs": [],
   "source": [
    "# grad_w = ...\n",
    "\n",
    "print(grad_w)"
   ]
  },
  {
   "cell_type": "markdown",
   "metadata": {
    "colab_type": "text",
    "id": "JovjKb4qNLhI"
   },
   "source": [
    "5. Implement the gradient descent. You have to update `w` iterativley using the computed gradients. Note that `w` is a global variable used in the predicting function. Thus updating `w` automatically updates the predicting function. Use learning rate $\\approx 0.01$ and $\\approx 1000$ update steps.\n"
   ]
  },
  {
   "cell_type": "code",
   "execution_count": 0,
   "metadata": {
    "colab": {},
    "colab_type": "code",
    "id": "dK9d5BTOOKT4"
   },
   "outputs": [],
   "source": [
    "#for i in range(1000):\n",
    "  # ...\n",
    "  # w = w - 0.01 * grad_w"
   ]
  },
  {
   "cell_type": "markdown",
   "metadata": {
    "colab_type": "text",
    "id": "iw5UJmZCN9gv"
   },
   "source": [
    "We plot the model and compute the cost. Expected cost: $\\approx 0.87$."
   ]
  },
  {
   "cell_type": "code",
   "execution_count": 0,
   "metadata": {
    "colab": {},
    "colab_type": "code",
    "id": "CQvs4hSmOF73"
   },
   "outputs": [],
   "source": [
    "DataSet.plot_model(predict_y1)\n",
    "print('Cost:%f' % l2_cost(x_D, y_D, predict_y1))"
   ]
  },
  {
   "cell_type": "markdown",
   "metadata": {
    "colab_type": "text",
    "id": "FL6Rk9X-Oo6c"
   },
   "source": [
    "## Problem 2 - Data Normalization\n",
    "\n",
    "In this exercise we extend the precious model by data normalization. Assume we have the data matrix (our matrix is $1 \\times N$ but here we consider the more general case $M \\times N$)\n",
    "\\begin{align}\n",
    "\\mat{X}_{\\text{data}} = \n",
    "\\begin{bmatrix}\n",
    "&x_{(1),1} \t&\\dots \t&x_{(1),N} \t\\\\\n",
    "&x_{(2),1} \t&\\dots \t&x_{(2),N} \t\\\\\n",
    "&\\vdots &\\dots  &\\vdots\\\\\n",
    "&x_{(M),1} \t&\\dots \t&x_{(M),N} \t\\\\\n",
    "\\end{bmatrix}\n",
    "\\end{align}\n",
    "The notation we use is as follows: $x_{(j),i}$ is a $j$-th entry in the $i$-th vector $\\vec{x}_i$from the data set. Each of the rows corresponds to a samples from different input variables $X_{(1)}, \\dots, X_{(M)}$. That is, we consider each entry in the vector  of input variables from the training set as being a different scalar variable. E.g., the second row of $\\mat{X}_{\\text{data}}$ contains the samples from the variable $X_{(2)}$, that is, the second entry of training data vector. Each of the variables $X_{(i)}$ may have different mean and variance. This may lead to overflow/underflow in computations as well as makes GD converge slower. A common approach in machine learning is to normalize the variables $X_{(1)}, \\dots, X_{(M)}$. This can be done by computing the mean $\\mu_i$ and the variance $\\sigma^2_i$ (or the standard deviation denoted by $\\sigma_i$ ) of each of the variables and transforming the variables in the following way\n",
    "\\begin{align}\n",
    "X_{(i)} \\gets \\frac{X_{(i)} - \\mu_i}{\\sigma_i}.\n",
    "\\end{align}\n",
    "This way each of the new variables has zero mean and unit variance. \n",
    "\n",
    "The normalization in our case can be performed by computing the mean and the variance of each row from $\\mat{X}_{\\text{data}}$ and  applying the normalization transformation to each of the samples in the row. After training the model with the normalized data, if we want to apply the model to new data, we need to perform the same normalization (with means and variances computed on the training data). That is, first we transform $\\vec{x}_\\text{new}$ just as we transformed all our training data. Next, we perform prediction on the transformed version of $\\vec{x}_\\text{new}$.\n",
    "\n",
    "Observe, that once we compute the mean and the variance for the training data, the data normalization is just a linear transformation of the input variables. Although it does not change the model capabilities, it is often used in practice as it speeds up the training."
   ]
  },
  {
   "cell_type": "markdown",
   "metadata": {
    "colab_type": "text",
    "id": "c6kg-aFeSeot"
   },
   "source": [
    "1. Implement a fuction which computes and returns the mean value and the standard deviaton for each input variable (row of the data matrx) and returns them. The input is an numpy array of size $(M,n)$. The outputs are two numpy arrays of size $(M,1)$."
   ]
  },
  {
   "cell_type": "code",
   "execution_count": 0,
   "metadata": {
    "colab": {},
    "colab_type": "code",
    "id": "SQn9Kj3bQ_Lm"
   },
   "outputs": [],
   "source": [
    "def get_norm_params(x_data):\n",
    "    mean_x = np.mean(x_data, axis=1).reshape((-1,1))\n",
    "    stdd_x = np.std(x_data,axis=1).reshape((-1,1))\n",
    "  \n",
    "    return mean_x, stdd_x"
   ]
  },
  {
   "cell_type": "markdown",
   "metadata": {
    "colab_type": "text",
    "id": "dxpz4XjaT1JG"
   },
   "source": [
    "We compute the normalization parameters for our dataset. We will store them as global variables and use them in the predictive function (just as the variable `w` is used). The mean should be around 0.414 and the stdd 0.248."
   ]
  },
  {
   "cell_type": "code",
   "execution_count": 11,
   "metadata": {
    "colab": {
     "base_uri": "https://localhost:8080/",
     "height": 34
    },
    "colab_type": "code",
    "id": "t51Nv6VbUBzF",
    "outputId": "31aa1627-7cdd-4d07-d37c-54c3cc847f7f"
   },
   "outputs": [
    {
     "name": "stdout",
     "output_type": "stream",
     "text": [
      "mean:0.414, stdd:0.248\n"
     ]
    }
   ],
   "source": [
    "x_D_mean, x_D_stdd = get_norm_params(x_D)\n",
    "print('mean:%.3f, stdd:%.3f' % (x_D_mean, x_D_stdd))"
   ]
  },
  {
   "cell_type": "markdown",
   "metadata": {
    "colab_type": "text",
    "id": "uv_c2PB6VH1m"
   },
   "source": [
    "2. Implement a function `predict_y1n`, which takes an array of inputs $[x_1 \\dots x_n]$ and produces an array of correspoding outputs $[a(x_1) \\dots a(x_n)]$. Use the model $a(x) =w_1x+w_0$. However,  now perform the data normalization before using the model. Normalize the input using the global variables coputed from the training data: `x_D_mean, x_D_stdd`.The input to the function is a numpy array of size $(M,n)$ and the output is a numpy array of size $(1,n)$. In the function you can use the global variable `w` containing the model parameters (from the previous point). In this case, the model will be automaticly updated when the value of `w` changes."
   ]
  },
  {
   "cell_type": "code",
   "execution_count": 0,
   "metadata": {
    "colab": {},
    "colab_type": "code",
    "id": "D4xsezclW5LU"
   },
   "outputs": [],
   "source": [
    "def predict_y1n(x):\n",
    "    x_nor = (x - x_D_mean)/x_D_stdd\n",
    "    a = w[1][0]*x_nor + w[0][0]\n",
    "    \n",
    "    \n",
    "    return a"
   ]
  },
  {
   "cell_type": "markdown",
   "metadata": {
    "colab_type": "text",
    "id": "1k4-Bi3cXLr2"
   },
   "source": [
    "3. Compute the gradient for the initial parameters (you can re-run the cell from above which initializes  w, or just copy here the code from there)). Remeber to use the normalization. The gradient should be a vector of the same size as to the vector `w` and should contain partial derivatives for the correspoding parameters. When correctly implemented you should obtain a vector $\\nabla  w = [0.81, 7.69]^T$ (for $w=[0.1, 0.1]^T$."
   ]
  },
  {
   "cell_type": "code",
   "execution_count": 25,
   "metadata": {
    "colab": {
     "base_uri": "https://localhost:8080/",
     "height": 51
    },
    "colab_type": "code",
    "id": "H7JPhDUKXSq1",
    "outputId": "c33bd328-3f5d-4bb9-a14f-c2905a72e666"
   },
   "outputs": [
    {
     "name": "stdout",
     "output_type": "stream",
     "text": [
      "[[0.81526]\n",
      " [7.69727]]\n"
     ]
    }
   ],
   "source": [
    "w = np.array([0.1,0.1]).reshape((-1,1))\n",
    "x_Nor = (x_D - x_D_mean)/x_D_stdd\n",
    "\n",
    "x_Train = np.vstack((np.ones((1,x_Nor.shape[1])), x_Nor))\n",
    "a = predict_y1n(x_D)\n",
    "\n",
    "grad_w = x_Train.dot( (a-y_D).T )\n",
    "\n",
    "print(grad_w)"
   ]
  },
  {
   "cell_type": "markdown",
   "metadata": {
    "colab_type": "text",
    "id": "A--B4eW8YbBh"
   },
   "source": [
    "4. Implement the gradient descent. You have to update `w` iterativley using the computed gradients. Note that `w` is a global variable for the prediciton function and updating `w` autmatically updates the predictive model. Apply normalization to the data before using them for training. Use learning rate $\\approx 0.01$ and $\\approx 1000$ update steps.\n"
   ]
  },
  {
   "cell_type": "code",
   "execution_count": 0,
   "metadata": {
    "colab": {},
    "colab_type": "code",
    "id": "qGCWnzNcYqC5"
   },
   "outputs": [],
   "source": [
    "w = np.array([0.1,0.1]).reshape((-1,1))\n",
    "x_Nor = (x_D - x_D_mean)/x_D_stdd\n",
    "x_Train = np.vstack((np.ones((1,x_Nor.shape[1])), x_Nor))\n",
    "\n",
    "\n",
    "\n",
    "for i in range(1000):\n",
    "    a = predict_y1n(x_D)\n",
    "    grad_w = x_Train.dot( (a-y_D).T )\n",
    "    w = w - 0.01 * grad_w\n"
   ]
  },
  {
   "cell_type": "markdown",
   "metadata": {
    "colab_type": "text",
    "id": "rOHpxmYzY8QU"
   },
   "source": [
    "We now plot the model and compute the cost. Expected cost: $\\approx 0.87$"
   ]
  },
  {
   "cell_type": "code",
   "execution_count": 31,
   "metadata": {
    "colab": {
     "base_uri": "https://localhost:8080/",
     "height": 282
    },
    "colab_type": "code",
    "id": "PcgJxxK6ZCzM",
    "outputId": "6939ee50-917d-4dea-9917-f3128852bd24"
   },
   "outputs": [
    {
     "name": "stdout",
     "output_type": "stream",
     "text": [
      "Cost:0.874386\n"
     ]
    },
    {
     "data": {
      "image/png": "[encoded data removed]",
      "text/plain": [
       "<Figure size 432x288 with 1 Axes>"
      ]
     },
     "metadata": {
      "tags": []
     },
     "output_type": "display_data"
    }
   ],
   "source": [
    "DataSet.plot_model(predict_y1n)\n",
    "print('Cost:%f' % l2_cost(x_D, y_D, predict_y1n))"
   ]
  },
  {
   "cell_type": "markdown",
   "metadata": {
    "colab_type": "text",
    "id": "pwqnyrSIdu-7"
   },
   "source": [
    "## Problem 3 - Linear Models for Non-linear Functions\n",
    "In this exercise we work with the previous dataset but we will extend our model to include non-linear functions of the input data. Observe, that so far our model was only able to reliably approxiatmate linear functions. The idea presented in this part of the tutorial is a powerful technique which greatly improves  the variety of the functions which can be approximated. For this approach the data normalization is quite helpful. Otherwise GD may be inefficient.\n",
    "\n",
    "We will extend the model by introducing new input variables, which are functions of our base input variable. Recall that inputs in our data set are \n",
    "\\begin{align}\n",
    "\\mat{X}_{\\text{data}} = \n",
    "\\begin{bmatrix}\n",
    "&x_1 \t&\\dots \t&x_N \t\\\\\n",
    "\\end{bmatrix}.\n",
    "\\end{align}\n",
    "\n",
    "To make the model richer we introduce polynomial functions of the base data as new variables. We artifically build a new data set as follows:\n",
    "\\begin{align}\n",
    "\\mat{X}_{\\text{data}} = \n",
    "\\begin{bmatrix}\n",
    "&x_1 \t&\\dots \t&x_N \t\\\\\n",
    "&x_1^2&\\dots \t&x_N^2 \t\\\\\n",
    "&\\vdots &\\dots \t&\\vdots \t\\\\\n",
    "&x_1^P&\\dots \t&x_N^P \t\\\\\n",
    "\\end{bmatrix}.\n",
    "\\end{align}\n",
    "\n",
    "We treat each row of the newly created dataset as a new variable and perform regression accordingly. Consequently, the parameters vector `w` shound now contain $P+1$ entries (one extra for the bias parameter $w_0$)."
   ]
  },
  {
   "cell_type": "markdown",
   "metadata": {
    "colab_type": "text",
    "id": "kMiAKKJy_rGY"
   },
   "source": [
    "1. Implement the function `extend_data1D` which takes as an input the numpy array of size $(1,n)$, e.g., the base array $X_\\text{data}$, and returns  the extended array of size  $(p,n)$ as explained above.  "
   ]
  },
  {
   "cell_type": "code",
   "execution_count": 0,
   "metadata": {
    "colab": {},
    "colab_type": "code",
    "id": "BD_-JyElBLEg"
   },
   "outputs": [],
   "source": [
    "def extend_data1D(x, p=1): \n",
    "    \n",
    "    x_ext = np.vstack([ x**i for i in range(1,p+1) ])\n",
    "    \n",
    "    return x_ext"
   ]
  },
  {
   "cell_type": "markdown",
   "metadata": {
    "colab_type": "text",
    "id": "CKF_MB3JBTog"
   },
   "source": [
    "We set $P=4$ (feel free to try different values as well). We compute the normalization parameters for the extended dataset. You should get `x_D_ext_mean` $= [0.41, 0.23, 0.14, 0.09]^T$ and x_D_ext_stdd $= [0.24, 0.20, 0.15, 0.11]^T$"
   ]
  },
  {
   "cell_type": "code",
   "execution_count": 40,
   "metadata": {
    "colab": {
     "base_uri": "https://localhost:8080/",
     "height": 153
    },
    "colab_type": "code",
    "id": "FwH4ARU0B4Jc",
    "outputId": "dc349657-16f0-418f-b8ad-02241f3b0e76"
   },
   "outputs": [
    {
     "name": "stdout",
     "output_type": "stream",
     "text": [
      "[[0.4138 ]\n",
      " [0.23271]\n",
      " [0.14481]\n",
      " [0.09487]]\n",
      "[[0.24795]\n",
      " [0.20178]\n",
      " [0.15376]\n",
      " [0.11727]]\n"
     ]
    }
   ],
   "source": [
    "P = 4\n",
    "x_D_ext = extend_data1D(x_D, P)\n",
    "x_D_ext_mean, x_D_ext_stdd = get_norm_params(x_D_ext)\n",
    "\n",
    "print(x_D_ext_mean)\n",
    "print(x_D_ext_stdd)"
   ]
  },
  {
   "cell_type": "markdown",
   "metadata": {
    "colab_type": "text",
    "id": "rZvXtr4DCfY2"
   },
   "source": [
    "2. Implement a function `predict_y2`, which takes an array of inputs $[x_1 \\dots x_n]$ and produces an array of correspoding outputs $[a(x_1) \\dots a(x_n)]$. Use the model $a(x) = \\sum_{i=0}^P w_i x^i$ (you can use the extend function to generate terms $x^i, i>1$). Apply the data normalization before using the model. Normalize the inputs (which include the newly generated functions of the base input) using the global variables `x_D_ext_mean, x_D_ext_stdd`.The input is a numpy array of size $(M=1,n)$ and the output is a numpy array of size $(1,n)$. In the function you can use the global variable `w` containing the model parameters (from the previous point). In this case, the model will be automaticly updated when the value of `w` changes."
   ]
  },
  {
   "cell_type": "code",
   "execution_count": 0,
   "metadata": {
    "colab": {},
    "colab_type": "code",
    "id": "E-BLL-qYD0Rf"
   },
   "outputs": [],
   "source": [
    "def predict_y2(x):\n",
    "    x = extend_data1D(x, P)\n",
    "    x_D_ext_norm = (x - x_D_ext_mean)/x_D_ext_stdd\n",
    "    a = w[0][0] + w[1:].T.dot(x_D_ext_norm)\n",
    "    \n",
    "    return a"
   ]
  },
  {
   "cell_type": "markdown",
   "metadata": {
    "colab_type": "text",
    "id": "V03r9hujE7Cu"
   },
   "source": [
    "We initialize the value of the parametes and plot the implemented model. It does not fit the data but it is clearly non-linear, which showes that the model is more representative."
   ]
  },
  {
   "cell_type": "code",
   "execution_count": 53,
   "metadata": {
    "colab": {
     "base_uri": "https://localhost:8080/",
     "height": 282
    },
    "colab_type": "code",
    "id": "hqo4kAQRFIYV",
    "outputId": "b756166e-c5a5-4e41-d139-740484663624"
   },
   "outputs": [
    {
     "name": "stdout",
     "output_type": "stream",
     "text": [
      "Cost:6.711965\n"
     ]
    },
    {
     "data": {
      "image/png": "[encoded data removed]",
      "text/plain": [
       "<Figure size 432x288 with 1 Axes>"
      ]
     },
     "metadata": {
      "tags": []
     },
     "output_type": "display_data"
    }
   ],
   "source": [
    "w = np.array([0.1]*(P+1)).reshape(-1,1)\n",
    "\n",
    "DataSet.plot_model(predict_y2)\n",
    "print('Cost:%f' % l2_cost(x_D, y_D, predict_y2))\n",
    "\n"
   ]
  },
  {
   "cell_type": "markdown",
   "metadata": {
    "colab_type": "text",
    "id": "2332oiBoJ5I9"
   },
   "source": [
    "3. Compute the gradient for the current set of parameters. Remeber to use the normalization. The gradient should be a vector of the same size as to the vector `w` and should contain partial derivatives for the correspoding parameters. When correctly implemented you should obtain a vector $\\nabla  w = [0.81, 10.44, 11.15, 11.05, 10.63]^T$ (or anyting parallel if you used different scaling used for the cost function)"
   ]
  },
  {
   "cell_type": "code",
   "execution_count": 60,
   "metadata": {
    "colab": {
     "base_uri": "https://localhost:8080/",
     "height": 102
    },
    "colab_type": "code",
    "id": "0MsUBUy4J6ZY",
    "outputId": "8a5945af-3d16-44d5-afff-f3d2841017a1"
   },
   "outputs": [
    {
     "name": "stdout",
     "output_type": "stream",
     "text": [
      "[[ 0.81526]\n",
      " [10.44346]\n",
      " [11.15544]\n",
      " [11.05384]\n",
      " [10.63789]]\n"
     ]
    }
   ],
   "source": [
    "x_D_ext_norm = (x_D_ext - x_D_ext_mean)/x_D_ext_stdd\n",
    "x_D_train = np.vstack((np.ones((1,x_D_ext_norm.shape[1])), x_D_ext_norm))\n",
    "m = predict_y2(x_D)\n",
    "\n",
    "grad_w = x_D_train.dot((m-y_D).T)\n",
    "\n",
    "print(grad_w)"
   ]
  },
  {
   "cell_type": "markdown",
   "metadata": {
    "colab_type": "text",
    "id": "PlVgJhFLQc0C"
   },
   "source": [
    "4. Implement gradient descent. You have to update `w` iterativley using the computed gradients. Note that `w` is a global variable for the prediciton function and updating `w` autmatically updates the predictive model. Apply normalization to the data before using them for training. Use learning rate $\\approx 0.01$ and $\\approx 20000$ update steps."
   ]
  },
  {
   "cell_type": "code",
   "execution_count": 0,
   "metadata": {
    "colab": {},
    "colab_type": "code",
    "id": "K48ZzKHlL1JM"
   },
   "outputs": [],
   "source": [
    "x_D_ext_norm = (x_D_ext - x_D_ext_mean)/x_D_ext_stdd\n",
    "x_D_train = np.vstack((np.ones((1,x_D_ext_norm.shape[1])), x_D_ext_norm))\n",
    "\n",
    "for i in range(20000):\n",
    "    m = predict_y2(x_D)\n",
    "    grad_w = x_D_train.dot((m-y_D).T)\n",
    "    w = w - 0.01 * grad_w"
   ]
  },
  {
   "cell_type": "markdown",
   "metadata": {
    "colab_type": "text",
    "id": "sQ3Ct-ihQmsl"
   },
   "source": [
    "We now plot the model and compute the cost. Expected cost: $\\approx 0.03$"
   ]
  },
  {
   "cell_type": "code",
   "execution_count": 65,
   "metadata": {
    "colab": {
     "base_uri": "https://localhost:8080/",
     "height": 282
    },
    "colab_type": "code",
    "id": "nvj5AKq1OBWD",
    "outputId": "339d87c6-01b2-494b-e63e-307840424992"
   },
   "outputs": [
    {
     "name": "stdout",
     "output_type": "stream",
     "text": [
      "Cost:0.028514\n"
     ]
    },
    {
     "data": {
      "image/png": "[encoded data removed]",
      "text/plain": [
       "<Figure size 432x288 with 1 Axes>"
      ]
     },
     "metadata": {
      "tags": []
     },
     "output_type": "display_data"
    }
   ],
   "source": [
    "DataSet.plot_model(predict_y2)\n",
    "print('Cost:%f' % l2_cost(x_D, y_D, predict_y2))"
   ]
  },
  {
   "cell_type": "markdown",
   "metadata": {
    "colab_type": "text",
    "id": "saqRP2IzZ-BX"
   },
   "source": [
    "For linear models we can create new input variables by appling functions to the base input variables. Next, we treat the newly generated variables as regular ones and perform the regression. This technique allows to represent non-linear functions at the cost of more complicated model (more parameters to find, larger extended dataset). The problem is still linear because of the linear dependence on the parameters $w$. The optimization problem is still convex (if the cost function is convex) and  we are able to find the optimum `w` by using GD. One problem with the presented approach is that it requires expert-aided choice of the functions. For different regression problems, e.g., housing prices, speech processing, different functions may result in good peredicions. This choice of the function requires expertise in the domain of the problem."
   ]
  },
  {
   "cell_type": "markdown",
   "metadata": {
    "colab_type": "text",
    "id": "B-zvAiT9ma-v"
   },
   "source": [
    "## Problem 4* - Non-linear Model Based on Sine Functions\n",
    "\n",
    "This problem contains different dataset for indepedent solving. We import the dataset dataset2_linreg.py and plot the data points. (Please upload the dataset file to the notebook)"
   ]
  },
  {
   "cell_type": "code",
   "execution_count": 67,
   "metadata": {
    "colab": {
     "base_uri": "https://localhost:8080/",
     "height": 265
    },
    "colab_type": "code",
    "id": "LtdkDb-om1uC",
    "outputId": "27116b03-7049-476b-f96b-562462c0892d"
   },
   "outputs": [
    {
     "data": {
      "image/png": "[encoded data removed]",
      "text/plain": [
       "<Figure size 432x288 with 1 Axes>"
      ]
     },
     "metadata": {
      "tags": []
     },
     "output_type": "display_data"
    }
   ],
   "source": [
    "import numpy as np\n",
    "import matplotlib.pyplot as plt\n",
    "from dataset2_linreg import DataSet\n",
    "\n",
    "#import data, plot data\n",
    "y_D, x_D = DataSet.get_data()\n",
    "DataSet.plot_data()"
   ]
  },
  {
   "cell_type": "markdown",
   "metadata": {
    "colab_type": "text",
    "id": "e8J45zOMnRgO"
   },
   "source": [
    "Use the trick from the previous problem to extend the data as follows:\n",
    "\\begin{align}\n",
    "\t\\mat{X}_{\\text{data}} = \n",
    "\t\\begin{bmatrix}\n",
    "\t&x_1 \t\t\t\t\t&\\dots \t&x_N \t\t\\\\\n",
    "\t&\\sin 2\\pi\\frac{x_1}{x_{\\text{max}}} \t\t\t&\\dots \t&\\sin 2\\pi\\frac{x_N}{x_{\\text{max}}} \\\\\n",
    "\t&\\vdots \t\t\t&\t\t&\\vdots \\\\\n",
    "\t&\\sin 2\\pi(P-1)\\frac{x_1}{x_{\\text{max}}} \t&\\dots \t&\\sin 2\\pi(P-1)\\frac{x_N}{x_{\\text{max}}}\\\\\n",
    "\t&\\sin 2\\pi P \\frac{x_1}{x_{\\text{max}}} \t&\\dots \t&\\sin 2\\pi P \\frac{x_N}{x_{\\text{max}}}\\\\\n",
    "\t\\end{bmatrix},\n",
    "\t\\end{align}\n",
    "\twhere $x_{\\text{max}}$ is the sample from the training data with maximum value."
   ]
  },
  {
   "cell_type": "markdown",
   "metadata": {
    "colab_type": "text",
    "id": "1rqKi8Fgn5oG"
   },
   "source": [
    "1. Implement the function which generates the extra input variables, implement the predictive model, and train the model. Find the appropriate learning rate and number of interations. Remeber to use the data normlaization. Plot the final model."
   ]
  },
  {
   "cell_type": "code",
   "execution_count": 84,
   "metadata": {
    "colab": {
     "base_uri": "https://localhost:8080/",
     "height": 584
    },
    "colab_type": "code",
    "id": "qlf7xCnVrGvI",
    "outputId": "ddd48e77-87ec-4801-f829-e92538c27b2d"
   },
   "outputs": [
    {
     "name": "stderr",
     "output_type": "stream",
     "text": [
      "/usr/local/lib/python3.6/dist-packages/ipykernel_launcher.py:5: FutureWarning: arrays to stack must be passed as a \"sequence\" type such as list or tuple. Support for non-sequence iterables such as generators is deprecated as of NumPy 1.16 and will raise an error in the future.\n",
      "  \"\"\"\n"
     ]
    },
    {
     "data": {
      "image/png": "[encoded data removed]",
      "text/plain": [
       "<Figure size 432x288 with 1 Axes>"
      ]
     },
     "metadata": {
      "tags": []
     },
     "output_type": "display_data"
    },
    {
     "data": {
      "image/png": "[encoded data removed]",
      "text/plain": [
       "<Figure size 432x288 with 1 Axes>"
      ]
     },
     "metadata": {
      "tags": []
     },
     "output_type": "display_data"
    },
    {
     "name": "stdout",
     "output_type": "stream",
     "text": [
      "Cost:0.675430\n"
     ]
    }
   ],
   "source": [
    "P = 6\n",
    "\n",
    "def extend_data1D_sine(x, p=1):\n",
    "    x_max = max(max(x_D))\n",
    "    x_ext = np.vstack(( np.sin(2*np.pi*i*x/x_max) for i in range(1,p+1) ))\n",
    "    x_ext = np.vstack((x,x_ext))\n",
    "    return x_ext \n",
    "\n",
    "x_D_exte = extend_data1D_sine(x_D, P)\n",
    "x_D_ext_meane, x_D_ext_stdde = get_norm_params(x_D_exte)\n",
    "\n",
    "w = np.array([0.1]*(P+2)).reshape(-1,1)\n",
    "\n",
    "def predict_y3(x):\n",
    "    x = extend_data1D_sine(x, P)\n",
    "    x = (x - x_D_ext_meane)/x_D_ext_stdde\n",
    "    #x = np.vstack(( np.ones((1, x.shape[1])), x ))\n",
    "    #a = w.T.dot(x)\n",
    "    a = w[0][0] + w[1:].T.dot(x)\n",
    "    return a\n",
    "\n",
    "DataSet.plot_model(predict_y3)\n",
    "plt.show()\n",
    "\n",
    "x_traine = (x_D_exte - x_D_ext_meane)/x_D_ext_stdde\n",
    "x_traine = np.vstack(( np.ones((1, x_traine.shape[1])),x_traine))\n",
    "\n",
    "for i in range(10000):\n",
    "    n = predict_y3(x_D)\n",
    "    grad_w = x_traine.dot((n-y_D).T)\n",
    "    w = w - 0.01*grad_w\n",
    "\n",
    "DataSet.plot_model(predict_y3)\n",
    "plt.show()\n",
    "\n",
    "print('Cost:%f' % l2_cost(x_D, y_D, predict_y3)) \n",
    "  "
   ]
  },
  {
   "cell_type": "code",
   "execution_count": 0,
   "metadata": {
    "colab": {},
    "colab_type": "code",
    "id": "9mnzP5Ayfjpw"
   },
   "outputs": [],
   "source": []
  }
 ],
 "metadata": {
  "colab": {
   "collapsed_sections": [],
   "name": "ml4c_ex1.ipynb",
   "provenance": [],
   "toc_visible": true
  },
  "kernelspec": {
   "display_name": "Python 3",
   "language": "python",
   "name": "python3"
  },
  "language_info": {
   "codemirror_mode": {
    "name": "ipython",
    "version": 3
   },
   "file_extension": ".py",
   "mimetype": "text/x-python",
   "name": "python",
   "nbconvert_exporter": "python",
   "pygments_lexer": "ipython3",
   "version": "3.7.3"
  }
 },
 "nbformat": 4,
 "nbformat_minor": 1
}
