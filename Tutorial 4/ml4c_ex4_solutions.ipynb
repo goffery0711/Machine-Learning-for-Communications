{
 "cells": [
  {
   "cell_type": "markdown",
   "metadata": {
    "colab_type": "text",
    "id": "JXldhuigGT9X"
   },
   "source": [
    "# Neural Networks with PyTorch"
   ]
  },
  {
   "cell_type": "markdown",
   "metadata": {
    "colab_type": "text",
    "id": "np4YslfDGT9Z"
   },
   "source": [
    "## Problem 1 - Regression with NNs\n",
    "To get started with PyTorch, we again consider the regression problem from the previous exercises.\n",
    "Recall that are using no activation function (i.e., the identity function) at the output layer and a quadratic loss function.\n",
    "We are going to use one-dimensional dataset: **dataset2_linreg.py**. \n",
    "The inputs in the dataset are organized as a matrix:\n",
    "\\begin{align}\n",
    "\\begin{bmatrix}\n",
    "&{x}_1 &\\dots &{x}_N\n",
    "\\end{bmatrix},\n",
    "\\end{align}\n",
    "and the output in the dataset are organized as a matrix: \n",
    "\\begin{align}\n",
    "\\begin{bmatrix}\n",
    "&y_1 &\\dots &y_N\n",
    "\\end{bmatrix}.\n",
    "\\end{align}\n",
    "We start by importing the relevant modules and plotting the dataset."
   ]
  },
  {
   "cell_type": "code",
   "execution_count": 0,
   "metadata": {
    "colab": {},
    "colab_type": "code",
    "id": "Sg10q2WcGT9a",
    "outputId": "88184170-f27a-439a-c2c5-e4867c7ad52f"
   },
   "outputs": [
    {
     "data": {
      "image/png": "[encoded data removed]",
      "text/plain": [
       "<Figure size 432x288 with 1 Axes>"
      ]
     },
     "metadata": {
      "needs_background": "light",
      "tags": []
     },
     "output_type": "display_data"
    }
   ],
   "source": [
    "import numpy as np\n",
    "import matplotlib.pyplot as plt\n",
    "import torch\n",
    "import torch.nn as nn\n",
    "import torch.nn.functional as F\n",
    "\n",
    "from dataset2_linreg import DataSet  \n",
    "\n",
    "# fix random seed for reproducability\n",
    "torch.manual_seed(1)\n",
    "#get and plot the data\n",
    "y_D,x_D = DataSet.get_data()\n",
    "DataSet.plot_data()\n",
    "plt.show()"
   ]
  },
  {
   "cell_type": "markdown",
   "metadata": {
    "colab_type": "text",
    "id": "8poKasplGT9g"
   },
   "source": [
    "Right now, our training samples `x_D` and labels `y_D` are numpy arrays. To use them in PyTorch, we need to convert them to `torch.tensors`. To do this, you can use the `torch.from_numpy` function.\n",
    "\n",
    "Next, create a dataset using `torch.utils.data.TensorDataset(inputs,targets)`. Note that in a `TensorDataset`, the data samples are indexed via the first dimension (i.e., the rows of a matrix)!\n",
    "\n",
    "Using the dataset, create a `DataLoader` object. The DataLoader manages the data set for training (or validation) and we can extract the training batches from it during training. It can also take care of randomizing the samples across training epochs such that the training batches do not contain the same data in every epoch.\n",
    "Since our dataset is small, we perform batch learning, i.e., we copmute the gradient over the whole data set in each iteration."
   ]
  },
  {
   "cell_type": "code",
   "execution_count": 0,
   "metadata": {
    "colab": {},
    "colab_type": "code",
    "id": "jiwI6e1jGT9h"
   },
   "outputs": [],
   "source": [
    "torch.utils.data.TensorDataset?"
   ]
  },
  {
   "cell_type": "code",
   "execution_count": 0,
   "metadata": {
    "colab": {},
    "colab_type": "code",
    "id": "1hMeS4KMGT9j"
   },
   "outputs": [],
   "source": [
    "# convert x_D, y_D to tensors\n",
    "y_tensor = torch.from_numpy(y_D.T).float()\n",
    "x_tensor = torch.from_numpy(x_D.T).float()\n",
    "# build a data set\n",
    "dataset_LinReg = torch.utils.data.TensorDataset(x_tensor,y_tensor)\n",
    "dataloader_LinReg = torch.utils.data.DataLoader(dataset_LinReg,batch_size = len(dataset_LinReg))\n"
   ]
  },
  {
   "cell_type": "markdown",
   "metadata": {
    "colab_type": "text",
    "id": "CU787JGxGT9l"
   },
   "source": [
    "Now we can build a neural network. Similar to our previous exercise, a neural network is defined as a class in PyTorch. The difference is that in PyTorch, it is a child class which inherits many useful properties and attributes without the need to program them specifically.\n",
    "\n",
    "For a simple feedforward neural network, we only need to code the learnable parameters (the weights and biases) and the forward computation of the network. For a fully connected linear layer, use `nn.Linear` and make sure to include a bias term.\n",
    "For the ReLU function, use `F.relu` and for the sigmoid activation function, use `torch.sigmoid`."
   ]
  },
  {
   "cell_type": "code",
   "execution_count": 0,
   "metadata": {
    "colab": {},
    "colab_type": "code",
    "id": "AkOhBLyjGT9m"
   },
   "outputs": [],
   "source": [
    "class Net(nn.Module):\n",
    "    # initialize the network and define all learnable parameters\n",
    "    def __init__(self):\n",
    "        super(Net, self).__init__() # initialize properties and methods from parent class\n",
    "        \n",
    "        ###### add layers here ######\n",
    "        self.h1  = nn.Linear(1,8, bias=True)\n",
    "        self.h2  = nn.Linear(8,8, bias=True)\n",
    "        self.h3  = nn.Linear(8,8, bias=True)\n",
    "        self.out = nn.Linear(8, 1, bias=True)\n",
    "        #############################\n",
    "        \n",
    "    # define the forward pass\n",
    "    def forward(self, x):\n",
    "        \n",
    "        ###### code the forward computation ########\n",
    "        x = F.relu(self.h1(x)) # First hidden layer\n",
    "        x = F.relu(self.h2(x)) # Second hidden layer\n",
    "        x = torch.sigmoid(self.h3(x))\n",
    "        #x = torch.sigmoid(self.out(x)) # Output layer\n",
    "        x = self.out(x) # Output layer\n",
    "        #############################\n",
    "        return x\n"
   ]
  },
  {
   "cell_type": "markdown",
   "metadata": {
    "colab_type": "text",
    "id": "4Xx98sh1GT9p"
   },
   "source": [
    "We can now initialize the network and print its layer architecture."
   ]
  },
  {
   "cell_type": "code",
   "execution_count": 0,
   "metadata": {
    "colab": {},
    "colab_type": "code",
    "id": "eHKegxOKGT9q",
    "outputId": "dbc58ce7-30f6-4627-af32-52df546f335d"
   },
   "outputs": [
    {
     "name": "stdout",
     "output_type": "stream",
     "text": [
      "Net(\n",
      "  (h1): Linear(in_features=1, out_features=8, bias=True)\n",
      "  (h2): Linear(in_features=8, out_features=8, bias=True)\n",
      "  (h3): Linear(in_features=8, out_features=8, bias=True)\n",
      "  (out): Linear(in_features=8, out_features=1, bias=True)\n",
      ") \n",
      "\n",
      "Number of parameters: 8 \n",
      "\n",
      "Parameter containing:\n",
      "tensor([[ 0.5153],\n",
      "        [-0.4414],\n",
      "        [-0.1939],\n",
      "        [ 0.4694],\n",
      "        [-0.9414],\n",
      "        [ 0.5997],\n",
      "        [-0.2057],\n",
      "        [ 0.5087]], requires_grad=True)\n"
     ]
    }
   ],
   "source": [
    "\n",
    "net_LinReg = Net()\n",
    "print(net_LinReg,'\\n')\n",
    "\n",
    "# Lets look at some example parameters of our network\n",
    "params = list(net_LinReg.parameters())\n",
    "print('Number of parameters:', len(params),'\\n') # one for each weight matrix and bias vector\n",
    "print(params[0])  # layer1 .weight"
   ]
  },
  {
   "cell_type": "markdown",
   "metadata": {
    "colab_type": "text",
    "id": "D_wBkuu4GT9t"
   },
   "source": [
    "We plot the model again and look see the predictions of our random network."
   ]
  },
  {
   "cell_type": "code",
   "execution_count": 0,
   "metadata": {
    "colab": {},
    "colab_type": "code",
    "id": "pCXNvCf9GT9t",
    "outputId": "b9f17758-a6f5-48de-b5b7-6c2b25fe0f2d"
   },
   "outputs": [
    {
     "data": {
      "image/png": "[encoded data removed]",
      "text/plain": [
       "<Figure size 432x288 with 1 Axes>"
      ]
     },
     "metadata": {
      "needs_background": "light",
      "tags": []
     },
     "output_type": "display_data"
    }
   ],
   "source": [
    "DataSet.plot_model_torch(net_LinReg)"
   ]
  },
  {
   "cell_type": "markdown",
   "metadata": {
    "colab_type": "text",
    "id": "qyaPYSlTGT9v"
   },
   "source": [
    "Implement a function that trains the neural network."
   ]
  },
  {
   "cell_type": "code",
   "execution_count": 0,
   "metadata": {
    "colab": {},
    "colab_type": "code",
    "id": "hGFul59-GT9w"
   },
   "outputs": [],
   "source": [
    "def train(NeuralNetwork,dataloader,loss_function, num_epochs, l_rate=0.001, wd=0 ):\n",
    "    \"\"\"\n",
    "    Performs gradient descent learning.\n",
    "    \n",
    "    NeuralNetwork = neural network to be trained\n",
    "    dataloader = DataLoader that deals batches for mini-batch learning\n",
    "    loss_function = cost function to be optimized\n",
    "    num_epochs = number of training epochs\n",
    "    l_rate = learning rate (default value 0.001)\n",
    "    wd = weight decay regularization (default value 0)\n",
    "    \"\"\"\n",
    "    optimizer = torch.optim.SGD(NeuralNetwork.parameters(), lr = l_rate, weight_decay=wd)\n",
    "    for epoch in range(num_epochs):\n",
    "        running_loss = 0.0\n",
    "        \n",
    "        for batch_idx , (inputs,labels) in enumerate(dataloader):\n",
    "            # reset gradient\n",
    "            optimizer.zero_grad()\n",
    "            # forward propagation\n",
    "            outputs = NeuralNetwork(inputs)\n",
    "            # compute loss\n",
    "            loss = loss_function(outputs, labels)\n",
    "            # backprop\n",
    "            loss.backward()\n",
    "            # update parameters\n",
    "            optimizer.step()\n",
    "            # add loss\n",
    "            running_loss += loss.item()\n",
    "        if (epoch % 1000) == 0:\n",
    "            print('Epoch: ',epoch, 'Current loss: ',running_loss)\n",
    "    \n",
    "    "
   ]
  },
  {
   "cell_type": "markdown",
   "metadata": {
    "colab_type": "text",
    "id": "Xk-ErVorGT9z"
   },
   "source": [
    "Now it's time to train the network! You can experiment with different learning rates or revalues. To speed up the learning process, it is often usefull to start with a larger learning rate and then continue training with a smaller rate.\n",
    "After training, plot the model."
   ]
  },
  {
   "cell_type": "code",
   "execution_count": 0,
   "metadata": {
    "colab": {},
    "colab_type": "code",
    "id": "gA3f2ylWGT9z",
    "outputId": "61862ee2-5239-4051-8182-186a308e72d7"
   },
   "outputs": [
    {
     "name": "stdout",
     "output_type": "stream",
     "text": [
      "Epoch:  0 Current loss:  0.7114256024360657\n",
      "Epoch:  1000 Current loss:  0.028828846290707588\n",
      "Epoch:  2000 Current loss:  0.01646409183740616\n",
      "Epoch:  3000 Current loss:  0.01858075149357319\n",
      "Epoch:  4000 Current loss:  0.010840190574526787\n",
      "Epoch:  5000 Current loss:  0.01116105541586876\n",
      "Epoch:  6000 Current loss:  0.009726050309836864\n",
      "Epoch:  7000 Current loss:  0.022911977022886276\n",
      "Epoch:  8000 Current loss:  0.008412427268922329\n",
      "Epoch:  9000 Current loss:  0.00861801765859127\n",
      "Epoch:  10000 Current loss:  0.008707244880497456\n",
      "Epoch:  11000 Current loss:  0.008787725120782852\n",
      "Epoch:  12000 Current loss:  0.011836898513138294\n",
      "Epoch:  13000 Current loss:  0.012619574554264545\n",
      "Epoch:  14000 Current loss:  0.011529025621712208\n",
      "Epoch:  0 Current loss:  0.009213094599545002\n",
      "Epoch:  1000 Current loss:  0.0031985428649932146\n",
      "Epoch:  2000 Current loss:  0.003117526415735483\n",
      "Epoch:  3000 Current loss:  0.003054084023460746\n",
      "Epoch:  4000 Current loss:  0.003003685502335429\n",
      "Epoch:  5000 Current loss:  0.0029642852023243904\n",
      "Epoch:  6000 Current loss:  0.002933466574177146\n",
      "Epoch:  7000 Current loss:  0.002910884562879801\n",
      "Epoch:  8000 Current loss:  0.002891299081966281\n",
      "Epoch:  9000 Current loss:  0.0028758696280419827\n"
     ]
    },
    {
     "data": {
      "image/png": "[encoded data removed]",
      "text/plain": [
       "<Figure size 432x288 with 1 Axes>"
      ]
     },
     "metadata": {
      "needs_background": "light",
      "tags": []
     },
     "output_type": "display_data"
    }
   ],
   "source": [
    "# training\n",
    "train(net_LinReg,dataloader_LinReg,nn.MSELoss(),15000, 0.2)\n",
    "train(net_LinReg,dataloader_LinReg,nn.MSELoss(),10000, 0.05)\n",
    "# visualization\n",
    "DataSet.plot_model_torch(net_LinReg)"
   ]
  },
  {
   "cell_type": "markdown",
   "metadata": {
    "colab_type": "text",
    "id": "qMkvHK3qGT92"
   },
   "source": [
    "## Problem 2 - Binary Classification wtih NNs\n",
    "\n",
    "In this exercises we apply NN to the binary classification (logistic regression) problem. We will be using the file **dataset2_logreg.py**. For the binary classification we are going to use the cross entropy cost function between the network output $a$ and the output variable from the training set $y$."
   ]
  },
  {
   "cell_type": "code",
   "execution_count": 0,
   "metadata": {
    "colab": {},
    "colab_type": "code",
    "id": "a9ETyy0HGT92",
    "outputId": "d3c0e811-da42-4bae-f94c-d5e56fbc88f4"
   },
   "outputs": [
    {
     "data": {
      "image/png": "[encoded data removed]",
      "text/plain": [
       "<Figure size 432x288 with 1 Axes>"
      ]
     },
     "metadata": {
      "needs_background": "light",
      "tags": []
     },
     "output_type": "display_data"
    }
   ],
   "source": [
    "import numpy as np\n",
    "import matplotlib.pyplot as plt\n",
    "import torch\n",
    "import torch.nn as nn\n",
    "import torch.nn.functional as F\n",
    "from dataset2_logreg import DataSet  \n",
    "\n",
    "# fix random seed for reproducability\n",
    "torch.manual_seed(1)\n",
    "\n",
    "#get and plot the data\n",
    "y_D,x_D = DataSet.get_data()\n",
    "DataSet.plot_data()\n",
    "plt.show()\n"
   ]
  },
  {
   "cell_type": "markdown",
   "metadata": {
    "colab_type": "text",
    "id": "JKfadd28GT94"
   },
   "source": [
    "Convert the data to `torch.tensors` and create a suitable `DataLoader` object"
   ]
  },
  {
   "cell_type": "code",
   "execution_count": 0,
   "metadata": {
    "colab": {},
    "colab_type": "code",
    "id": "rAX_cCJ9GT95"
   },
   "outputs": [],
   "source": [
    "# convert x_D,y_D to tensors\n",
    "y_tensor = torch.from_numpy(y_D.T).float()\n",
    "x_tensor = torch.from_numpy(x_D.T).float()\n",
    "# build a data set\n",
    "dataset_LogReg = torch.utils.data.TensorDataset(x_tensor,y_tensor)\n",
    "dataloader_LogReg = torch.utils.data.DataLoader(dataset_LogReg,batch_size = len(dataset_LogReg))\n",
    "\n"
   ]
  },
  {
   "cell_type": "markdown",
   "metadata": {
    "colab_type": "text",
    "id": "JEH-cOB3GT97"
   },
   "source": [
    "Design a neural network for the classification problem. To make things more flexible, you should build a model that takes as inputs a tuple `layer_sizes` specifying the number of neurons in every layer as well an activation function for the hidden layers and the output layer.\n",
    "As an exmaple, `net_LogReg = Net_var((2,10,10,1), F.relu, torch.sigmoid)` should initialize a neural network for our two-dimensional data that has two hidden layers with ten neurons each, one neuron at the output, and uses the ReLu function at the hidden layers and the sigmoid at the output."
   ]
  },
  {
   "cell_type": "code",
   "execution_count": 0,
   "metadata": {
    "colab": {},
    "colab_type": "code",
    "id": "ZC94pvIKGT99"
   },
   "outputs": [],
   "source": [
    "def identity(x):\n",
    "    return x\n",
    "\n",
    "class Net_var(nn.Module):\n",
    "    \"\"\"\n",
    "    Neural Network with inputs:\n",
    "    layer_sizes = tuple specifying the number of neurons in each layer\n",
    "    act_hid = activation function at the hidden layers\n",
    "    act_out = activation function at the output\n",
    "    \"\"\"\n",
    "    # initialize the network and define all learnable parameters\n",
    "    def __init__(self, layer_sizes, act_hid, act_out): #, act_hid, act_out):\n",
    "        super(Net_var, self).__init__()\n",
    "        self.L = len(layer_sizes)\n",
    "        self.layers = nn.ModuleList() # initialize empty module list\n",
    "        self.act_hid = act_hid\n",
    "        self.act_out = act_out\n",
    "        for k in range(len(layer_sizes) - 1):\n",
    "            self.layers.append(nn.Linear(layer_sizes[k], layer_sizes[k+1]))\n",
    "\n",
    "# define the forward pass\n",
    "    def forward(self, x):\n",
    "        for k in range(self.L - 2):\n",
    "            x = self.act_hid(self.layers[k](x))\n",
    "        x = self.act_out(self.layers[self.L - 2](x))\n",
    "        return x\n",
    "\n"
   ]
  },
  {
   "cell_type": "markdown",
   "metadata": {
    "colab_type": "text",
    "id": "3zsCaF9aGT9-"
   },
   "source": [
    "Initialize the network."
   ]
  },
  {
   "cell_type": "code",
   "execution_count": 0,
   "metadata": {
    "colab": {},
    "colab_type": "code",
    "id": "-H56iAb8GT9_"
   },
   "outputs": [],
   "source": [
    "net_LogReg = Net_var((2,10,10,1), F.relu, torch.sigmoid)  "
   ]
  },
  {
   "cell_type": "markdown",
   "metadata": {
    "colab_type": "text",
    "id": "MUkn2RyuGT-B"
   },
   "source": [
    "Perform training and plot the model. Use the binary cross entropy function `nn.BCELoss` for trainig. For a better evaluation of our model, you can also modify the `train` function to compute the classification error rate."
   ]
  },
  {
   "cell_type": "code",
   "execution_count": 0,
   "metadata": {
    "colab": {},
    "colab_type": "code",
    "id": "nU_P_i3jGT-C"
   },
   "outputs": [],
   "source": [
    "## changing the train function\n",
    "def train(NeuralNetwork,dataloader,loss_function, num_epochs, l_rate=0.001, wd=0 ):\n",
    "    \"\"\"\n",
    "    Performs gradient descent learning.\n",
    "    \n",
    "    NeuralNetwork = neural network to be trained\n",
    "    dataloader = DataLoader that deals batches for mini-batch learning\n",
    "    loss_function = cost function to be optimized\n",
    "    num_epochs = number of training epochs\n",
    "    l_rate = learning rate (default value 0.001)\n",
    "    wd = weight decay regularization (default value 0)\n",
    "    \"\"\"\n",
    "    optimizer = torch.optim.SGD(NeuralNetwork.parameters(), lr = l_rate, weight_decay=wd)\n",
    "    for epoch in range(num_epochs):\n",
    "        running_loss = 0.0\n",
    "        errors = 0\n",
    "        for batch_idx , (inputs,labels) in enumerate(dataloader):\n",
    "            # reset gradient\n",
    "            optimizer.zero_grad()\n",
    "            # forward propagation\n",
    "            outputs = NeuralNetwork(inputs)\n",
    "            # compute loss\n",
    "            loss = loss_function(outputs, labels)\n",
    "            # backprop\n",
    "            loss.backward()\n",
    "            # update parameters\n",
    "            optimizer.step()\n",
    "            # add loss\n",
    "            running_loss += loss.item()\n",
    "            # error rate\n",
    "            predicted = (outputs > 0.5 )\n",
    "            errors += sum(predicted != labels)\n",
    "        if (epoch % 1000) == 0:\n",
    "            error_rate = round(100.0* errors.numpy()[0] / len(dataloader.dataset),2)\n",
    "            print('Epoch: ',epoch, '| Current loss: ',round(running_loss,5), '| Error rate: ',error_rate, '%')\n",
    "    "
   ]
  },
  {
   "cell_type": "code",
   "execution_count": 0,
   "metadata": {
    "colab": {},
    "colab_type": "code",
    "id": "QZlL4UO6GT-E",
    "outputId": "1c50d471-046d-41d7-cda0-076ba1fa3b84"
   },
   "outputs": [
    {
     "name": "stdout",
     "output_type": "stream",
     "text": [
      "Epoch:  0 | Current loss:  0.67073 | Error rate:  28.75 %\n",
      "Epoch:  1000 | Current loss:  0.63197 | Error rate:  23.75 %\n",
      "Epoch:  2000 | Current loss:  0.59046 | Error rate:  17.5 %\n",
      "Epoch:  3000 | Current loss:  0.54187 | Error rate:  16.25 %\n",
      "Epoch:  4000 | Current loss:  0.48343 | Error rate:  17.5 %\n",
      "Epoch:  5000 | Current loss:  0.42031 | Error rate:  13.75 %\n",
      "Epoch:  6000 | Current loss:  0.35436 | Error rate:  11.25 %\n",
      "Epoch:  7000 | Current loss:  0.30347 | Error rate:  11.25 %\n",
      "Epoch:  8000 | Current loss:  0.26564 | Error rate:  12.5 %\n",
      "Epoch:  9000 | Current loss:  0.24035 | Error rate:  12.5 %\n",
      "Epoch:  10000 | Current loss:  0.22257 | Error rate:  13.75 %\n",
      "Epoch:  11000 | Current loss:  0.20905 | Error rate:  12.5 %\n",
      "Epoch:  12000 | Current loss:  0.19854 | Error rate:  10.0 %\n",
      "Epoch:  13000 | Current loss:  0.19024 | Error rate:  10.0 %\n",
      "Epoch:  14000 | Current loss:  0.18334 | Error rate:  10.0 %\n"
     ]
    },
    {
     "data": {
      "image/png": "[encoded data removed]",
      "text/plain": [
       "<Figure size 432x288 with 1 Axes>"
      ]
     },
     "metadata": {
      "needs_background": "light",
      "tags": []
     },
     "output_type": "display_data"
    }
   ],
   "source": [
    "# training\n",
    "train(net_LogReg,dataloader_LogReg,nn.BCELoss(),15000, 0.003)\n",
    "# plot the model\n",
    "DataSet.plot_decision_boundary_torch(net_LogReg)\n",
    "plt.show()"
   ]
  }
 ],
 "metadata": {
  "colab": {
   "name": "ml4c_ex4_solutions.ipynb",
   "provenance": []
  },
  "kernelspec": {
   "display_name": "Python 3",
   "language": "python",
   "name": "python3"
  },
  "language_info": {
   "codemirror_mode": {
    "name": "ipython",
    "version": 3
   },
   "file_extension": ".py",
   "mimetype": "text/x-python",
   "name": "python",
   "nbconvert_exporter": "python",
   "pygments_lexer": "ipython3",
   "version": "3.7.3"
  }
 },
 "nbformat": 4,
 "nbformat_minor": 1
}
