{
 "cells": [
  {
   "cell_type": "markdown",
   "metadata": {
    "colab_type": "text",
    "id": "tUbipI7fY7Bv"
   },
   "source": [
    "# MNIST data set: recognizing handwritten digits"
   ]
  },
  {
   "cell_type": "code",
   "execution_count": 0,
   "metadata": {
    "colab": {},
    "colab_type": "code",
    "id": "OVj-S2bBY7By"
   },
   "outputs": [],
   "source": [
    "import torch\n",
    "import torchvision\n",
    "import torch.nn as nn\n",
    "import torch.nn.functional as F\n",
    "\n",
    "random_seed = 1\n",
    "torch.manual_seed(random_seed);\n"
   ]
  },
  {
   "cell_type": "markdown",
   "metadata": {
    "colab_type": "text",
    "id": "Zek_orSJY7B1"
   },
   "source": [
    "# Preparing the data set"
   ]
  },
  {
   "cell_type": "code",
   "execution_count": 0,
   "metadata": {
    "colab": {},
    "colab_type": "code",
    "id": "1xaJhhXsY7B1"
   },
   "outputs": [],
   "source": [
    "batch_size_train = 128\n",
    "batch_size_test = 128\n",
    "\n",
    "# training set\n",
    "train_dataset = torchvision.datasets.MNIST('./files/', \n",
    "                train=True, download=True,transform = torchvision.transforms.ToTensor())\n",
    "train_loader = torch.utils.data.DataLoader(train_dataset,batch_size=batch_size_train, shuffle=True)\n",
    "# test set\n",
    "test_dataset = torchvision.datasets.MNIST('./files/', train=False, download=True,\n",
    "                             transform = torchvision.transforms.ToTensor())\n",
    "test_loader = torch.utils.data.DataLoader(test_dataset,batch_size=batch_size_test, shuffle=True)"
   ]
  },
  {
   "cell_type": "markdown",
   "metadata": {
    "colab_type": "text",
    "id": "bJfOcNqDY7B4"
   },
   "source": [
    "Let us look at some examples."
   ]
  },
  {
   "cell_type": "code",
   "execution_count": 0,
   "metadata": {
    "colab": {},
    "colab_type": "code",
    "id": "16MIGVKIY7B4"
   },
   "outputs": [],
   "source": [
    "examples = enumerate(train_loader)\n",
    "batch_idx, (example_data, example_targets) = next(examples)\n",
    "\n",
    "print('Shape of one training mini batch',example_data.shape)\n",
    "print('Shape of one target mini batch',example_targets.shape)\n",
    "#print('Example training sample', example_data[1])\n",
    "print('Target values', example_targets[:])\n",
    "print(train_loader.dataset)"
   ]
  },
  {
   "cell_type": "markdown",
   "metadata": {
    "colab_type": "text",
    "id": "0raCaLuVY7B7"
   },
   "source": [
    "To get a feeling for the data, we visualize some examples."
   ]
  },
  {
   "cell_type": "code",
   "execution_count": 0,
   "metadata": {
    "colab": {},
    "colab_type": "code",
    "id": "Q9GywQm8Y7B7"
   },
   "outputs": [],
   "source": [
    "import matplotlib.pyplot as plt\n",
    "for i in range(6):\n",
    "    plt.subplot(2,3,i+1)\n",
    "    plt.tight_layout()\n",
    "    plt.imshow(example_data[i][0], cmap='gray', interpolation='none')\n",
    "    plt.title(\"Ground Truth: {}\".format(example_targets[i]))\n",
    "    plt.xticks([])\n",
    "    plt.yticks([])\n"
   ]
  },
  {
   "cell_type": "markdown",
   "metadata": {
    "colab_type": "text",
    "id": "sIbrktZIY7B-"
   },
   "source": [
    "# Defining the Network\n",
    "\n",
    "Define the network. A few things to keep in mind:\n",
    "<ul>\n",
    "    <li> Make sure that the networks dimensions are compatible with our data. The network automatically takes care of handling batches (the first dimension of our data). The remaining dimensions must be met by the data. Thus, we first need to convert the images into vectors before they can be passed through the first linear layer. This can be done in the forward computation of the network.</li>\n",
    "    <li> Each image belongs to one of ten classes. Thus, our output should be 10-dimensional with each output representing one class. To transform the outputs into probabilities, we use can the *softmax* function\n",
    "    \\begin{align}\n",
    "        \\text{softmax}\\left(\\underline{y}\\right) = \\frac{e^{-y_i}}{\\sum_{i}e^{-y_i}}\n",
    "    \\end{align}\n",
    "        that transforms a vector of real numbers into a vector of probabilities. The network can then be trained with the cross entropy loss function. For this to work, we need to transform the labels $y_i\\in\\{0,1\\ldots,9\\}$ into *one-hot* labels \n",
    "    \\begin{align}\n",
    "    y_i = 3 \\quad \\rightarrow \\quad {\\hat{y}}_i = [0,0,0,1,0,0,0,0,0,0]\n",
    "    \\end{align}\n",
    "    </li>\n",
    "<li> **However:** PyTorch has the built-in cost function `nn.CrossEntropyLoss` (see https://pytorch.org/docs/stable/nn.html#crossentropyloss) that takes care of all this. That is, we can just define our network with a linear output layer with ten neurons and then pass the outputs as well as the target values (from 0 to 9) to the loss function. For prediction, we can then simply take the largest value of the outputs are apply the `F.softmax` function if we wish to have probabilities. </li>\n",
    " </ul>\n"
   ]
  },
  {
   "cell_type": "code",
   "execution_count": 0,
   "metadata": {
    "colab": {},
    "colab_type": "code",
    "id": "a7TtZj9bY7B_"
   },
   "outputs": [],
   "source": [
    "class Net(nn.Module):\n",
    "    ##### your code here #####\n",
    "    # initialize the network and define all learnable parameters\n",
    "\n",
    "    \n",
    "    # define the forward pass\n",
    "\n",
    "    \n",
    "    ##########################\n"
   ]
  },
  {
   "cell_type": "markdown",
   "metadata": {
    "colab_type": "text",
    "id": "-xpx2RxDY7CB"
   },
   "source": [
    "Initialize the network."
   ]
  },
  {
   "cell_type": "code",
   "execution_count": 0,
   "metadata": {
    "colab": {},
    "colab_type": "code",
    "id": "MbAVagdcY7CB"
   },
   "outputs": [],
   "source": [
    "# net = ..."
   ]
  },
  {
   "cell_type": "markdown",
   "metadata": {
    "colab_type": "text",
    "id": "oEFVpB_HY7CE"
   },
   "source": [
    "Define the training procedure as before. To judge the training process, it makes sense to print both the loss values as well as the classification error rates."
   ]
  },
  {
   "cell_type": "code",
   "execution_count": 0,
   "metadata": {
    "colab": {},
    "colab_type": "code",
    "id": "mbD23T9xY7CF"
   },
   "outputs": [],
   "source": [
    "def train(NeuralNetwork,train_loader,loss_function,num_epochs, learning_rate=0.001, wd=0 ):\n",
    "    \"\"\"\n",
    "    Trains a neural network.\n",
    "    \n",
    "    NeuralNetwork = neural network to be trained\n",
    "    dataloader = DataLoader that deals batches for mini-batch learning\n",
    "    loss_function = cost function to be optimized\n",
    "    num_epochs = number of training epochs\n",
    "    l_rate = learning rate (default value 0.001)\n",
    "    wd = weight decay regularization (default value 0)\n",
    "    \"\"\"\n",
    "    ##### your code here #####\n",
    "    \n",
    "    \n",
    "    \n",
    "    \n",
    "    \n",
    "    \n",
    "    ##########################\n"
   ]
  },
  {
   "cell_type": "markdown",
   "metadata": {
    "colab_type": "text",
    "id": "2i3n_57mY7CH"
   },
   "source": [
    "Train the network. Note that since we have a large dataset, we will train fewer epochs than for the small data set used in the previous exercises."
   ]
  },
  {
   "cell_type": "code",
   "execution_count": 0,
   "metadata": {
    "colab": {},
    "colab_type": "code",
    "id": "nnrF-1xQY7CH"
   },
   "outputs": [],
   "source": [
    "# train"
   ]
  },
  {
   "cell_type": "markdown",
   "metadata": {
    "colab_type": "text",
    "id": "0MfBEDKeY7CK"
   },
   "source": [
    "In order to evaluate our model properly and avoid overfitting, we need to run the network on the training set.\n",
    "Write a routine that computes the classification error rate on the training data."
   ]
  },
  {
   "cell_type": "code",
   "execution_count": 0,
   "metadata": {
    "colab": {},
    "colab_type": "code",
    "id": "YrymrAi9Y7CK"
   },
   "outputs": [],
   "source": [
    "#### your code here #####\n",
    "\n",
    "\n",
    "\n",
    "\n",
    "#########################\n"
   ]
  },
  {
   "cell_type": "markdown",
   "metadata": {
    "colab_type": "text",
    "id": "z0PrSUmwY7CN"
   },
   "source": [
    "Suggestion for further work: \n",
    "<ul>\n",
    "    <li> If your error rates on the training and test set differ significantly, your model is overfitting. What can you do against this? </li>\n",
    "<li> If you achieve a low error rate on the test set: find the images that are classified incorrectly by the network. Would you classify those correctly? </li>\n",
    "<li> For comparison of your networks performance, you can take a look at the Wikipedia page: https://en.wikipedia.org/wiki/MNIST_database </li>\n",
    "</ul>\n",
    "\n"
   ]
  },
  {
   "cell_type": "code",
   "execution_count": 0,
   "metadata": {
    "colab": {},
    "colab_type": "code",
    "id": "LARiJoUtY7CN"
   },
   "outputs": [],
   "source": []
  }
 ],
 "metadata": {
  "colab": {
   "name": "pytorch_mnist.ipynb",
   "provenance": []
  },
  "kernelspec": {
   "display_name": "Python 3",
   "language": "python",
   "name": "python3"
  },
  "language_info": {
   "codemirror_mode": {
    "name": "ipython",
    "version": 3
   },
   "file_extension": ".py",
   "mimetype": "text/x-python",
   "name": "python",
   "nbconvert_exporter": "python",
   "pygments_lexer": "ipython3",
   "version": "3.7.3"
  }
 },
 "nbformat": 4,
 "nbformat_minor": 1
}
