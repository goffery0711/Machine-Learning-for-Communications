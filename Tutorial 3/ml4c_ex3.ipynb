{
 "cells": [
  {
   "cell_type": "markdown",
   "metadata": {
    "colab_type": "text",
    "id": "pzBIoyLRCvtY"
   },
   "source": [
    "$\n",
    "\\DeclareMathOperator{\\Prob}{Pr}\n",
    "\\renewcommand{\\vec}[1]{{\\underline{#1}}}\n",
    "\\newcommand{\\dott}[2]{{{#1}^T{#2}}}\n",
    "\\newcommand{\\mat}[1]{{\\mathbf{#1}}}\n",
    "\\def\\code#1{\\texttt{#1}}\n",
    "$\n",
    "\n",
    "# Programming Exercises - Set 3\n",
    "    \n",
    "In this exercises we will develop a class  `NNet` implementing a feed-forward neural network(NN).  We are going to use the datasets: **dataset2_linreg.py** and** dataset2_logreg.py** which were also used  in the precious exercises. Before using a dataset in Colab we need to upload it to the notebook: click on the black box [>] on the left to expand a menu; then go to Files and select upload."
   ]
  },
  {
   "cell_type": "markdown",
   "metadata": {
    "colab_type": "text",
    "id": "75Pq9HwhDwxE"
   },
   "source": [
    "1. Activation functions and their derivatives are extensively used in NNs during the forward- and back-propagation. Implement activation function and their darivatives. The functions should take a numpy array of arbitrary size and return a numpy array of the same size with activation function (or its derivative) applied elementwise."
   ]
  },
  {
   "cell_type": "code",
   "execution_count": 1,
   "metadata": {
    "colab": {},
    "colab_type": "code",
    "id": "IssiXx-0EeD8"
   },
   "outputs": [],
   "source": [
    "# 激活函数返回值计算！！\n",
    "\n",
    "def indentity(x):\n",
    "    return x\n",
    "   \n",
    "def d_indentity(x):    # d表示微分  用于forward／back propagation\n",
    "    return np.ones(x.shape)\n",
    "  \n",
    "def relu(x):\n",
    "    return np.maximum(x, np.zeros(x.shape))\n",
    "\n",
    "def d_relu(x):     # d表示微分 用于forward／back propagation\n",
    "    return (x>0).astype(float)\n",
    "  \n",
    "def sigmoid(x):\n",
    "    return 1/(1+np.exp(-x))\n",
    "\n",
    "def d_sigmoid(x):   # d表示微分  用于forward／back propagation\n",
    "    return sigmoid(x)*(1-sigmoid(x))"
   ]
  },
  {
   "cell_type": "markdown",
   "metadata": {
    "colab_type": "text",
    "id": "35N3GpN2EzL1"
   },
   "source": [
    "## Problem 1 - Regression with NNs\n",
    "In this exercises we apply NNs to the regression problem. In the regression problem we are going to use the quadratic cost function and the identity activation function for the output layer. We are going to use  one-dimensional dataset: **dataset2_linreg.py**. \n",
    "The inputs in the dataset are organized as a matrix:\n",
    "\\begin{align}\n",
    "\\begin{bmatrix}\n",
    "&{x}_1 &\\dots &{x}_N\n",
    "\\end{bmatrix},\n",
    "\\end{align}\n",
    "and the output in the dataset are organized as a matrix: \n",
    "\\begin{align}\n",
    "\\begin{bmatrix}\n",
    "&y_1 &\\dots &y_N\n",
    "\\end{bmatrix}.\n",
    "\\end{align}\n",
    "We start from implementing the cost function and ploting the dataset."
   ]
  },
  {
   "cell_type": "code",
   "execution_count": 3,
   "metadata": {
    "colab": {},
    "colab_type": "code",
    "id": "n8zd2jyJFuNE"
   },
   "outputs": [
    {
     "data": {
      "image/png": "[encoded data removed]",
      "text/plain": [
       "<Figure size 432x288 with 1 Axes>"
      ]
     },
     "metadata": {
      "needs_background": "light"
     },
     "output_type": "display_data"
    }
   ],
   "source": [
    "import numpy as np\n",
    "import matplotlib.pyplot as plt\n",
    "from dataset2_linreg import DataSet  \n",
    "\n",
    "#get and plot the data\n",
    "y_D,x_D = DataSet.get_data()\n",
    "DataSet.plot_data()\n",
    "plt.show()\n",
    "\n",
    "#cost L2\n",
    "def l2_cost(x_D, y_D, predict_f):\n",
    "    y_predicted = predict_f(x_D)\n",
    "    return np.sum(0.5*(y_predicted-y_D)**2)     # quadratic cost function"
   ]
  },
  {
   "cell_type": "markdown",
   "metadata": {
    "colab_type": "text",
    "id": "bxTPTnuUGBHc"
   },
   "source": [
    "In this step,  we build up a class representing called NNet which implements NN. Read the description of the class and implement the following methods:\n",
    ">1. `init_Wb(self)`:  The function should initialize the matrices $\\mat{W}^{[1]}, \\dotsc, \\mat{W}^{[L]}$ and the vectors $\\vec{b}^{[1]}, \\dotsc, \\vec{b}^{[L]}$ with random numbers from Gaussian distribution with $0$ mean and $0.25$ variance.\n",
    ">2. `fp(self, x):` The function performs forward propagation. Recall the forward propagation for a single input vector $\\vec{x}$:\n",
    "\t\\begin{align}\n",
    "\t&\\vec{a}^{[0]} = \\vec{x} \\\\\n",
    "\t&\\vec{z}^{[l]} =  \\mat{W}^{[l]} \\vec{a}^{[l-1]} + \\vec{b}^{[l]}\\\\\n",
    "\t&\\vec{a}^{[l]} = g^{[l]}\\left(\\vec{z}^{[l]}\\right).\n",
    "\t\\end{align}\n",
    "  The function `fp` should be more flexible and should allow at the input a sequence of input vectors which are collected in a matrix. That is, at the input it should take a matrix containing $n$ input vectors\n",
    "  \\begin{align} \n",
    "\t\\begin{bmatrix}\n",
    "\t\\vec{x}_1, \t\t\t&\\dotsc, \t&\\vec{x}_n \\\\\n",
    "\t\\end{bmatrix}.\n",
    "\t\\end{align}\n",
    "  The output consists of two dictionaries which contain the inputs to each layer (dictionary `z`) and the outputs from each layer (dictionary `a`). The key in the dictionary is the number of the layer. Note that we are using the numbering and notation from the lecture. The dictionaries should look like this:\n",
    "\\begin{align}\n",
    "\t\\texttt{a = \\{} & \\texttt{0:} \n",
    "\t\t\\begin{bmatrix} \\vec{x}_1, &\\dotsc, &\\vec{x}_N  \\end{bmatrix}, \\\\\n",
    "\t\t\t\t\t&\\texttt{1}: \n",
    "\t\t\\begin{bmatrix} \\vec{a}^{[1]}(\\vec{x}_1), &\\dotsc, &\\vec{a}^{[1]}(\\vec{x}_N)  \\end{bmatrix}, \\\\\n",
    "\t\t\t\t\t& \\dotsc \\\\\n",
    "\t\t\t\t\t&\\texttt{L}:\n",
    "\t\t\\begin{bmatrix} \\vec{a}^{[L]}(\\vec{x}_1), &\\dotsc, &\\vec{a}^{[L]}(\\vec{x}_N)  \\end{bmatrix}\\texttt{\\}} \t\t\n",
    "\t\\end{align}\n",
    "\t\\begin{align}\n",
    "\t\t\\texttt{z = \\{} & \\texttt{1:} \n",
    "\t\t\\begin{bmatrix} \\vec{z}^{[1]}(\\vec{x}_1), &\\dotsc, &\\vec{z}^{[1]}(\\vec{x}_N)  \\end{bmatrix}, \\\\\n",
    "\t\t&\\texttt{2}: \n",
    "\t\t\\begin{bmatrix} \\vec{z}^{[2]}(\\vec{x}_1), &\\dotsc, &\\vec{z}^{[2]}(\\vec{x}_N)  \\end{bmatrix}, \\\\\n",
    "\t\t& \\dotsc \\\\\n",
    "\t\t&\\texttt{L}:\n",
    "\t\t\\begin{bmatrix} \\vec{z}^{[L]}(\\vec{x}_1), &\\dotsc, &\\vec{z}^{[L]}(\\vec{x}_N)  \\end{bmatrix}\\texttt{\\}} \t\t\t\n",
    "\t\\end{align}\n",
    "  The reason why we store the inputs/outputs for each layer is that we will need them during the back-propagation.\n",
    "\n",
    "  "
   ]
  },
  {
   "cell_type": "code",
   "execution_count": 4,
   "metadata": {
    "colab": {
     "base_uri": "https://localhost:8080/",
     "height": 130
    },
    "colab_type": "code",
    "id": "kmeR1CmWFfZc",
    "outputId": "6bf73ea6-6e75-44ae-fc8d-ceacd1e34ed2"
   },
   "outputs": [],
   "source": [
    "class NNet:          # CNN 训练流程！！\n",
    "    \"\"\"\n",
    "    Class implementing a feed forward neural network.\n",
    "    Object fields:\n",
    "        layers = a tuple containing numbers of neurons in each layer, starting from the input layer\n",
    "        \n",
    "        L = depth of the NN, eg, with depth L there are L matrices W: W[1], ...,W[L]\n",
    "        \n",
    "        act_hid   = activation function for neurons in the hidden layer\n",
    "        d_act_hid = derivative of the activation function for neurons in the hidden layer\n",
    "        act_out   = activation function for neuron(s) in the output layer\n",
    "        d_act_out = derivative of the activation function for neuron(s) in the output layer        \n",
    "        \n",
    "        W = dictionary containing the W matrices for each layer. The keys are arranged such that the matrices \n",
    "            stored in the dictionary corresponds to the notation form the lecture. Ie, W[1] is the matrix which\n",
    "            describes the connections between the layer 0 and layer 1. The matrix stored at W[1] is a numpy array\n",
    "            with dimensions (number of neurons in the layer 1) x (number of neurons in the layer 0)          \n",
    "        \n",
    "        b = dictionary containing the b vectors for each layer. The indexing corresponds to the indexing from\n",
    "            the lecture. See above. Eg, dimensions of b[1] (number of neurons in the layer 1) x  1   \n",
    "    \"\"\"\t\n",
    "    def __init__(self, layers, act_hid, d_act_hid, act_out, d_act_out):\n",
    "        self.layers = layers\n",
    "        self.L = len(layers) - 1\n",
    "        self.act_hid = act_hid\n",
    "        self.d_act_hid = d_act_hid        \n",
    "        self.act_out = act_out\n",
    "        self.d_act_out = d_act_out        \n",
    "        self.W, self.b = self.init_Wb()\n",
    "        \n",
    "    def init_Wb(self):\n",
    "        \"\"\"\n",
    "        Initialize the matrices W[1],...,W[L] and the vectors b[1],...,b[L] with random numbers from gaussian\n",
    "        distribution with 0-mean, and 0.25 variance. Note that W, b are dictionaries with integer keys.\n",
    "        \"\"\"\n",
    "        W, b = {}, {}\n",
    "        for i in range(1,self.L+1):\n",
    "        ###YOUR CODE HERE###   \n",
    "            W[i] = np.random.normal(0,0.25,(self.layers[i],self.layers[i-1]))\n",
    "            b[i] = np.random.normal(0,0.25,(self.layers[i],1))\n",
    "   \n",
    "        ####################\n",
    "        return W, b\n",
    "    \n",
    "    def fp(self, x):      # 前向 Forward propagation ！！\n",
    "        \"\"\"\n",
    "        Forward propagation. Uses the current parameters W, b\n",
    "        Inputs:\n",
    "            x = np.array of size self.layers[0] x N. This means that this function\n",
    "                performs the forward propagation for N input vectors (columns).\n",
    "        Outputs:\n",
    "            a = dictionary containing output of each layer of NN. Each dictionary stores N outputs\n",
    "                for each of the inputs. Eg., a[1] should be np.array of size self.layers[1] x N\n",
    "                The indexing corresponds to the indexing from the lecture. E.g. a[0]=x because a[0] \n",
    "                contains the N outputs of the input layer, which is the input x.\n",
    "            z = dictionary containing input to each layer of NN. The indexing corresponds to the indexing\n",
    "                from the lecture. E.g. z[1]=W[1].dot(a[0])+b[1].\n",
    "        \"\"\"\n",
    "        a, z = {}, {}\n",
    "        ###YOUR CODE HERE###\n",
    "        a[0] = x\n",
    "        L = self.L\n",
    "        for i in range(1,L):\n",
    "            z[i] = self.W[i].dot(a[i-1]) + self.b[i]\n",
    "            a[i] = self.act_hid(z[i])    \n",
    "            \n",
    "        z[L] = self.W[L].dot(a[L-1]) + self.b[L]    \n",
    "        a[L] = self.act_out(z[L]) \n",
    "\n",
    "        ####################\n",
    "        return a,z    \n",
    "        \n",
    "    def output(self, x):     #参数x_D从哪里导进来到x中的？\n",
    "        \"\"\"\n",
    "        Provides the output from the last layer of NN.\n",
    "        \"\"\"\n",
    "        a_out = None\n",
    "        a, _ = self.fp(x)\n",
    "        a_out = a[self.L]\n",
    "        return a_out "
   ]
  },
  {
   "cell_type": "markdown",
   "metadata": {
    "colab_type": "text",
    "id": "SbnPCDA4J4O8"
   },
   "source": [
    "We now plot the model implemented by the NN and compute the cost.\n"
   ]
  },
  {
   "cell_type": "code",
   "execution_count": 5,
   "metadata": {
    "colab": {},
    "colab_type": "code",
    "id": "1TgS964EJ_8c"
   },
   "outputs": [
    {
     "data": {
      "image/png": "[encoded data removed]",
      "text/plain": [
       "<Figure size 432x288 with 1 Axes>"
      ]
     },
     "metadata": {
      "needs_background": "light"
     },
     "output_type": "display_data"
    },
    {
     "name": "stdout",
     "output_type": "stream",
     "text": [
      "Cost:7.410412\n"
     ]
    }
   ],
   "source": [
    "NN = NNet((1,4,4,1), sigmoid, d_sigmoid, indentity, d_indentity)  \n",
    "    \n",
    "DataSet.plot_model(NN.output)\n",
    "plt.show()\n",
    "print('Cost:%f' % l2_cost(x_D, y_D, NN.output))  "
   ]
  },
  {
   "cell_type": "markdown",
   "metadata": {
    "colab_type": "text",
    "id": "2ODWF2mHKby8"
   },
   "source": [
    "We now add the backpropagation to class `NNet`. The algorithm is implemented for you. Take a look at the implementation and try to understand what is happening in the following steps. In the next exercise you will be asked to modify this function."
   ]
  },
  {
   "cell_type": "code",
   "execution_count": 6,
   "metadata": {
    "colab": {},
    "colab_type": "code",
    "id": "K-mCT1RMK2UM"
   },
   "outputs": [],
   "source": [
    "def bp(self, x, y):    # 后向  Backpropagation！！\n",
    "    \"\"\"\n",
    "    Backpropagation. Uses the current parameters W, b\n",
    "    Args:\n",
    "        x = np.array of size self.layers[0] x N (contains N input vectors from the training set)\n",
    "        y = np.array of size self.layers[L] x N (contains N output vectors from the training set)\n",
    "    Returns:\n",
    "        dW = dictionary corresponding to W, where each corresponding key contains a matrix of the \n",
    "             same size, eg, W[i].shape = dW[i].shape for all i. It contains the partial derivatives\n",
    "             of the cost function with respect to each entry entry of W.\n",
    "        db = dictionary corresponding to b, where each corresponding key contains a matrix of the \n",
    "             same size, eg, b[i].shape = bW[i].shape for all i. It contains the partial derivatives\n",
    "             of the cost function with respect to each entry entry of b. \n",
    "        \n",
    "    \"\"\"\n",
    "    a,z = self.fp(x)\n",
    "    L = self.L\n",
    "    \n",
    "    dCdz = { L: a[L]-y }\n",
    "    for l in range(L-1,0,-1):\n",
    "        dCdz[l] = self.W[l+1].T.dot(dCdz[l+1]) * self.d_act_hid(z[l])\n",
    "        \n",
    "    db = {}\n",
    "    for l in range(1,L+1):\n",
    "        db[l] = np.sum(dCdz[l], axis=1).reshape((-1,1))\n",
    "        \n",
    "    dW = {}\n",
    "    for l in range(1,L+1):\n",
    "        dW[l] = dCdz[l].dot(a[l-1].T)\n",
    "    return dW, db\n",
    "\n",
    "  \n",
    "#adding the back-prop to the class\n",
    "NNet.bp = bp\n",
    "  "
   ]
  },
  {
   "cell_type": "markdown",
   "metadata": {
    "colab_type": "text",
    "id": "cS7hHmxpLB5M"
   },
   "source": [
    "3. Please implement the function for gradient descent learning. Use the already implemented back-propagation. Note that the function is a part of the class so you can use the class fields/functions by using the phrase `self`"
   ]
  },
  {
   "cell_type": "code",
   "execution_count": 7,
   "metadata": {
    "colab": {},
    "colab_type": "code",
    "id": "LVSzw-1ZLE2M"
   },
   "outputs": [],
   "source": [
    "def gd_learn(self, iter_num, l_rate, x, y):    # 梯度下降gradient descent！！ 得出最终的w，b参数\n",
    "    \"\"\"\n",
    "    Performs gradient descent learning.\n",
    "    iter_num = nubmer of interations of GD\n",
    "    l_rate = learning rate\n",
    "    x = nparray with the training inputs\n",
    "    y = nparray with the training outputs\n",
    "    \"\"\"\n",
    "    ### YOUR CODE HERE ###\n",
    "    for i in range(iter_num):\n",
    "        dW, db = self.bp(x, y)\n",
    "        for n in range(1, self.L+1):\n",
    "            self.W[n] = self.W[n] - l_rate*dW[n]\n",
    "            self.b[n] = self.b[n] - l_rate*db[n]\n",
    "      \n",
    "    #####################\n",
    "    return 0\n",
    "\n",
    "#adding the gd_learn to the class\n",
    "NNet.gd_learn = gd_learn  "
   ]
  },
  {
   "cell_type": "markdown",
   "metadata": {
    "colab_type": "text",
    "id": "wtDJJZiyLlOL"
   },
   "source": [
    "We now initialize and train the NN (can take some time). Next, we plot the model."
   ]
  },
  {
   "cell_type": "code",
   "execution_count": 8,
   "metadata": {
    "colab": {},
    "colab_type": "code",
    "id": "VKMDXYwzLouU"
   },
   "outputs": [
    {
     "data": {
      "image/png": "[encoded data removed]",
      "text/plain": [
       "<Figure size 432x288 with 1 Axes>"
      ]
     },
     "metadata": {
      "needs_background": "light"
     },
     "output_type": "display_data"
    },
    {
     "name": "stdout",
     "output_type": "stream",
     "text": [
      "Cost:0.163553\n"
     ]
    }
   ],
   "source": [
    "NN.gd_learn(50000, 0.02, x_D, y_D)\n",
    "\n",
    "#plot and compute cost\n",
    "DataSet.plot_model(NN.output)\n",
    "plt.show()\n",
    "print('Cost:%f' % l2_cost(x_D, y_D, NN.output)) "
   ]
  },
  {
   "cell_type": "markdown",
   "metadata": {
    "colab_type": "text",
    "id": "HEOooPTuL1Yb"
   },
   "source": [
    "## Problem 2 - Binary Classification wtih NNs\n",
    "\n",
    "In this exercises we apply NN to the binary classification (logistic regression) problem. We will be using the file **dataset2_logreg.py**. For the binary classification we are going to use the cross entropy cost function between the network output $a$ and the output variable from the training set $y$."
   ]
  },
  {
   "cell_type": "code",
   "execution_count": 9,
   "metadata": {
    "colab": {},
    "colab_type": "code",
    "id": "B4oK8JsfONKc"
   },
   "outputs": [
    {
     "data": {
      "image/png": "[encoded data removed]",
      "text/plain": [
       "<Figure size 432x288 with 1 Axes>"
      ]
     },
     "metadata": {
      "needs_background": "light"
     },
     "output_type": "display_data"
    }
   ],
   "source": [
    "import numpy as np\n",
    "import matplotlib.pyplot as plt\n",
    "from dataset2_logreg import DataSet  \n",
    "\n",
    "#get and plot the data\n",
    "y_D,x_D = DataSet.get_data()\n",
    "DataSet.plot_data()\n",
    "plt.show()\n",
    "\n",
    "def ce_cost(x_arr, y_arr, predict_f):       #计算 cross entropy cost\n",
    "  y_eq_0 = (y_arr==0).nonzero()[1]\n",
    "  y_eq_1 = (y_arr==1).nonzero()[1]\n",
    "  a = predict_f(x_arr)\n",
    "  cost = np.sum( -np.log2(a[0][y_eq_1])) + np.sum( -np.log2(1-a[0][y_eq_0]))\n",
    "  return cost"
   ]
  },
  {
   "cell_type": "markdown",
   "metadata": {
    "colab_type": "text",
    "id": "XNmxdld8X-c7"
   },
   "source": [
    "We can not use the class `NNet` since the  back-propagation algorithm was implemented for the L2 cost (in fact we could, but the cost will be higher). Since we are using the cross-entropy loss, the back-propagation has to be modified to optimize this cost function. \n",
    "\n",
    "1. Modify the back-propagation presented below such that it follows computes the gradient of the cross-entropy loss. Where does the cost function enter the back-propagation? (You can check the lecture notes and derive the back-propagation for cross-entropy loss)"
   ]
  },
  {
   "cell_type": "code",
   "execution_count": 10,
   "metadata": {
    "colab": {},
    "colab_type": "code",
    "id": "6glal70vYIYc"
   },
   "outputs": [],
   "source": [
    "def bp(self, x, y):\n",
    "    \"\"\"\n",
    "    Backpropagation. Uses the current parameters W, b\n",
    "    Args:\n",
    "        x = np.array of size self.layers[0] x N (contains N input vectors from the training set)\n",
    "        y = np.array of size self.layers[L] x N (contains N output vectors from the training set)\n",
    "    Returns:\n",
    "        dW = dictionary corresponding to W, where each corresponding key contains a matrix of the \n",
    "             same size, eg, W[i].shape = dW[i].shape for all i. It contains the partial derivatives\n",
    "             of the cost function with respect to each entry entry of W.\n",
    "        db = dictionary corresponding to b, where each corresponding key contains a matrix of the \n",
    "             same size, eg, b[i].shape = bW[i].shape for all i. It contains the partial derivatives\n",
    "             of the cost function with respect to each entry entry of b. \n",
    "        \n",
    "    \"\"\"\n",
    "\t\t### MODIFY SOMETHING BELOW ###\n",
    "    a,z = self.fp(x)\n",
    "    L = self.L\n",
    "    \n",
    "    dCdz = { L: (a[L]-y)/a[L]/(1-a[L])*self.d_act_out(z[L]) }\n",
    "    for l in range(L-1,0,-1):        # 从L-1 到 0； ‘-1’ 表示倒序\n",
    "        dCdz[l] = self.W[l+1].T.dot(dCdz[l+1]) * self.d_act_hid(z[l])\n",
    "        \n",
    "    db = {}\n",
    "    for l in range(1,L+1):\n",
    "        db[l] = np.sum(dCdz[l], axis=1).reshape((-1,1))\n",
    "        \n",
    "    dW = {}\n",
    "    for l in range(1,L+1):\n",
    "        dW[l] = dCdz[l].dot(a[l-1].T)\n",
    "   ### MODIFY SOMETHING ABOVE ###\t\t\n",
    "    return dW, db\n",
    "  \n",
    "  \n",
    "#adding the modified back-prop to the class\n",
    "NNet.bp = bp  "
   ]
  },
  {
   "cell_type": "markdown",
   "metadata": {
    "colab_type": "text",
    "id": "HYig9rBmYdj6"
   },
   "source": [
    "Once the back-propagation was corrected for binary classifiacion,  we initialize the network and run the GD learning to find the model parameters."
   ]
  },
  {
   "cell_type": "code",
   "execution_count": 11,
   "metadata": {
    "colab": {},
    "colab_type": "code",
    "id": "3VHSFKWdYxr8"
   },
   "outputs": [
    {
     "data": {
      "image/png": "[encoded data removed]",
      "text/plain": [
       "<Figure size 432x288 with 1 Axes>"
      ]
     },
     "metadata": {
      "needs_background": "light"
     },
     "output_type": "display_data"
    },
    {
     "name": "stdout",
     "output_type": "stream",
     "text": [
      "Cost:7.746013\n"
     ]
    }
   ],
   "source": [
    "NN = NNet((2,6,6,1), sigmoid, d_sigmoid, sigmoid, d_sigmoid)  \n",
    "\n",
    "NN.gd_learn(50000, 0.01, x_D, y_D)\n",
    "\n",
    "#plot and compute cost\n",
    "DataSet.plot_decision_boundary(NN.output)\n",
    "plt.show()\n",
    "print('Cost:%f' % ce_cost(x_D, y_D, NN.output)) "
   ]
  },
  {
   "cell_type": "markdown",
   "metadata": {
    "colab_type": "text",
    "id": "Z5VaFPrcaUhK"
   },
   "source": [
    "## Problem 3 - Regularization of NNs\n",
    "We now add the regularization term to the cost function which results in the cost function\n",
    "$$ C = \\sum_{i=1}^{N} C_i + \\sum_{l=1}^{L} \\lambda \\|\\mat{W}^{[l]}\\|^2= \\sum_{i=1}^{N} -y_i \\log(a_i)  -(1-y_i)\\log(1-a_i) + \\sum_{l=1}^{L} \\lambda \\|\\mat{W}^{[l]}\\|^2, $$ \n",
    "where $\\|\\mat{W}^{[l]}\\|^2 = \\sum_{i,j} \\left(w_{i,j}^{[l]}\\right)^2$. That is, the regularization corresponds to adding the sum of the squares of the entries from the matrices $\\mat{W}^{[1]},\\dotsc,\\mat{W}^{[L]}$. Note that we do not normalize the bias terms."
   ]
  },
  {
   "cell_type": "markdown",
   "metadata": {
    "colab_type": "text",
    "id": "u8Re5Bxw1G1n"
   },
   "source": [
    "1. Derive the expression for the gradient for the cost function with the regularization. It could be done using the method form the lecture (differentiation with respect to rows of $\\mat{W}^{[l]}$). Finally, we obtain\n",
    "\t$$\\frac{\\partial C}{\\partial \\mat{W}^{[l]}} = \\sum_{i=1}^{N} \\frac{\\partial C^{(i)}}{\\partial \\mat{W}^{[l]}} + 2\\lambda \\mat{W}^{[l]} =\\sum_{i=1}^{N} \\left( \\vec{a}^{[l-1]} \\frac{\\partial C^{(i)}}{\\partial \\vec{z}^{[l]}}\\right)^T + 2\\lambda \\mat{W}^{[l]}$$"
   ]
  },
  {
   "cell_type": "markdown",
   "metadata": {
    "colab_type": "text",
    "id": "M1tgES6t1oLA"
   },
   "source": [
    "2. Using the above expression, we observe that it suffices to modify the `gd_learn` function to perform a regularized optimization. Modifiy the `gd_learn` function such that it uses the gradients with regularization. `lbd` denotes the regularization parameter."
   ]
  },
  {
   "cell_type": "code",
   "execution_count": 12,
   "metadata": {
    "colab": {},
    "colab_type": "code",
    "id": "TW8aH_H5aam7"
   },
   "outputs": [],
   "source": [
    "def gd_learn(self, iter_num, l_rate, x, y, lbd=0):  #上式右边等号第一项相当于是dW[n],第二项相当于是正则化项. b不变\n",
    "    \"\"\"                                                             \n",
    "    Performs gradient descent learning.        \n",
    "    \"\"\"\n",
    "    ### YOUR CODE HERE ###\n",
    " \n",
    "    for i in range(iter_num):\n",
    "        dW, db = self.bp(x, y)\n",
    "        for n in range(1, self.L):\n",
    "            self.W[n] = self.W[n] - l_rate*(dW[n] + 2*lbd*self.W[n])\n",
    "            self.b[n] = self.b[n] - l_rate*db[n]\n",
    "       \n",
    "    #####################\n",
    "    return 0    \n",
    "\n",
    "#adding the modified gd_learn to the class\n",
    "NNet.gd_learn = gd_learn"
   ]
  },
  {
   "cell_type": "markdown",
   "metadata": {
    "colab_type": "text",
    "id": "bDaPKyWFafgL"
   },
   "source": [
    "Now we train the network with regularization parambeter $\\lambda = 0.07$"
   ]
  },
  {
   "cell_type": "code",
   "execution_count": 13,
   "metadata": {
    "colab": {},
    "colab_type": "code",
    "id": "sDgUMTfSal5q"
   },
   "outputs": [
    {
     "name": "stderr",
     "output_type": "stream",
     "text": [
      "/Users/goffery/Desktop/Machine Learning for Communications/Tutorial/3/dataset2_logreg.py:55: UserWarning: No contour levels were found within the data range.\n",
      "  plt.contour(x0_grid, x1_grid, a, [0.5], colors=('k',))\n"
     ]
    },
    {
     "data": {
      "image/png": "[encoded data removed]",
      "text/plain": [
       "<Figure size 432x288 with 1 Axes>"
      ]
     },
     "metadata": {
      "needs_background": "light"
     },
     "output_type": "display_data"
    },
    {
     "name": "stdout",
     "output_type": "stream",
     "text": [
      "Cost:81.301304\n"
     ]
    }
   ],
   "source": [
    "lbd = 0.07\n",
    "NN = NNet((2,6,6,1), sigmoid, d_sigmoid, sigmoid, d_sigmoid)  \n",
    "\n",
    "NN.gd_learn(50000, 0.05, x_D, y_D, lbd)\n",
    "\n",
    "#plot and compute cost\n",
    "DataSet.plot_decision_boundary(NN.output)\n",
    "plt.show()\n",
    "print('Cost:%f' % ce_cost(x_D, y_D, NN.output))     #No contour levels were found within the data range.？？安装pytorch"
   ]
  },
  {
   "cell_type": "code",
   "execution_count": null,
   "metadata": {},
   "outputs": [],
   "source": []
  }
 ],
 "metadata": {
  "colab": {
   "collapsed_sections": [],
   "name": "ml4c_ex3.ipynb",
   "provenance": [],
   "toc_visible": true
  },
  "kernelspec": {
   "display_name": "Python 3",
   "language": "python",
   "name": "python3"
  },
  "language_info": {
   "codemirror_mode": {
    "name": "ipython",
    "version": 3
   },
   "file_extension": ".py",
   "mimetype": "text/x-python",
   "name": "python",
   "nbconvert_exporter": "python",
   "pygments_lexer": "ipython3",
   "version": "3.7.3"
  }
 },
 "nbformat": 4,
 "nbformat_minor": 1
}
