{
 "cells": [
  {
   "cell_type": "markdown",
   "metadata": {
    "colab_type": "text",
    "id": "Fwed8a4gB3VS"
   },
   "source": [
    "$\n",
    "\\DeclareMathOperator{\\Prob}{Pr}\n",
    "\\renewcommand{\\vec}[1]{{\\underline{#1}}}\n",
    "\\newcommand{\\dott}[2]{{{#1}^T{#2}}}\n",
    "\\newcommand{\\mat}[1]{{\\mathbf{#1}}}\n",
    "$\n",
    "\n",
    "# Programming Exercises - Set 2\n",
    "This exercise set regards logistic regression. We are given two two-dimensional data sets `dataset1_logreg, dataset2_logreg`. We are going to use the gradient descent (GD) algorithm during all exercises. For each of the exercises you may have to adjust the number of iterations and the step size of the GD to get a good performance. One technique to verify if the GD is behaving properly is to plot the cost versus the number of iterations. During implementation and debugging it is helpful to carefully observe the dimensions of the objects which enter/leave the calculations.\n",
    "\n",
    "For code brevity, we are going to use slightly different notation than during the lecture. Instead of the separate bias term $b$ in the logistic regression, i.e.,\n",
    "\\begin{align}\n",
    "z & = \\sum_{k=1}^{M} w_k x_k + b \\\\\n",
    "& =  \\dott{\\vec{w}}{\\vec{x}} + b,\n",
    "\\end{align}\n",
    "we are going to replace $b$ with $w_0$ and store it inside the parameters vector $\\vec{w}$, just like in the previous exercise. You also may need to extend the data vector $\\vec{x}$ by additional $1$ to vectorize your code. All the derivations from the lecture should be adapted to this notation (see the third subtask in this section).  The inputs in the dataset are organized as a matrix:\n",
    "\\begin{align}\n",
    "\\begin{bmatrix}\n",
    "&x_{(1),1} &\\dots &x_{(1),N}\\\\\n",
    "&x_{(2),1} &\\dots &x_{(2),N}\\\\\n",
    "\\end{bmatrix},\n",
    "\\end{align}\n",
    "and the output in the dataset are organized as a matrix: \n",
    "\\begin{align}\n",
    "\\begin{bmatrix}\n",
    "&y_1 &\\dots &y_N\n",
    "\\end{bmatrix}.\n",
    "\\end{align}\n"
   ]
  },
  {
   "cell_type": "markdown",
   "metadata": {
    "colab_type": "text",
    "id": "O3gGTUboFWUQ"
   },
   "source": [
    "## Problem 1 - Logistic Regression\n",
    "We start from importing the data set and ploting the data points. There is also the normalization function implemented for you. We also computed the normalization parameters. For more about data normalization, please refer to the Problem Set 1. The problem we aim to solve is 2D logistic regression. That is, we want to develop a model for predicting the the probability that a certain point  $\\vec{x}∈\\mathcal{R}^2$ belongs to one of the classes $y \\in \\{0, 1\\}$. The plot below presents the data points from the two classes."
   ]
  },
  {
   "cell_type": "code",
   "execution_count": 122,
   "metadata": {
    "colab": {},
    "colab_type": "code",
    "id": "rVaoV2aaF_1Y"
   },
   "outputs": [
    {
     "data": {
      "image/png": "[encoded data removed]",
      "text/plain": [
       "<Figure size 432x288 with 1 Axes>"
      ]
     },
     "metadata": {
      "needs_background": "light"
     },
     "output_type": "display_data"
    }
   ],
   "source": [
    "import numpy as np\n",
    "import matplotlib.pyplot as plt\n",
    "from dataset1_logreg import DataSet\n",
    "\n",
    "#use to compute normalizatiom parameters\n",
    "def get_norm_params(x_data):\n",
    "  mean_x      = np.mean(x_data[:], axis=1).reshape((-1,1))\n",
    "  stdd_x      = np.std(x_data[:], axis=1).reshape((-1,1))\n",
    "  return mean_x, stdd_x\n",
    "\n",
    "#import data, plot data\n",
    "y_D, x_D = DataSet.get_data()   # y_D 为label 相当于2进制； x_D第一行：x轴，第二行：y轴\n",
    "DataSet.plot_data()\n",
    "plt.show()\n",
    "\n",
    "#normalization parameters\n",
    "mean_x, stdd_x = get_norm_params(x_D)   \n"
   ]
  },
  {
   "cell_type": "markdown",
   "metadata": {
    "colab_type": "text",
    "id": "gFmIldHvNYv9"
   },
   "source": [
    "1. Initialize a variable `w` which contains the model parameters. `w` should be a numpy array of dimensions (3,1), i.e., a column vector. `w[0][0]` $= w_0$ and `w[1][0]` $= w_1$.  Use $w_0 = w_1 = w_2 = 0.1$. (you can use `type` method and `shape` property of numpy array to check if the variavble is of the expected type)"
   ]
  },
  {
   "cell_type": "code",
   "execution_count": 123,
   "metadata": {
    "colab": {},
    "colab_type": "code",
    "id": "u2TqQFwKb1KZ"
   },
   "outputs": [],
   "source": [
    "w = np.array([0.1, 0.1, 0.1]).reshape(-1, 1)   # np.array([0.1]*3)"
   ]
  },
  {
   "cell_type": "markdown",
   "metadata": {
    "colab_type": "text",
    "id": "drpAV64Bb_8h"
   },
   "source": [
    "2. Implement a function `predict_y1`, which takes an array of inputs $[\\vec{x}_1 \\dots \\vec{x}_n]$ and produces an array of correspoding outputs $[a(\\vec{x}_1) \\dots a(\\vec{x}_n)]$. Use the model  $a(\\vec{x}) = g_{\\text{sigmoid}}(w_0 + w_1x_1 + w_2x_2)$ ($x_1, x_2$ are the entries in the input vector). Note that the outputs should represent the probability that the label is $y$ for the given input, i.e., $a(\\vec{x})=\\Pr[y=1|\\vec{x}]$. Perform the data normalization using the normalization parameters computed from the training set. The input is a numpy array of size $(2,n)$ and the output is a numpy array of size $(1,n)$. In the function you can use the global variable `w` containing the model parameters (from the previous point). In this case, the model will be automaticly updated when the value of `w` changes"
   ]
  },
  {
   "cell_type": "code",
   "execution_count": 124,
   "metadata": {
    "colab": {},
    "colab_type": "code",
    "id": "B6KX6cFndqXq"
   },
   "outputs": [],
   "source": [
    "def predict_y1(x_arr):\n",
    "    x_arr = (x_arr - mean_x) / stdd_x\n",
    "    z_x = (w[0][0] + w[1][0]*x_arr[0] + w[2][0]*x_arr[1]).reshape((1,-1))    #相当于是dot(w.T, x_arr)\n",
    "    a = 1/(1 + np.exp(-z_x))       #  相当于求出 a = Py|x(1|x)\n",
    "   \n",
    "    return a "
   ]
  },
  {
   "cell_type": "markdown",
   "metadata": {
    "colab_type": "text",
    "id": "bJdchNQehE4Z"
   },
   "source": [
    "3. Implement a function `ce_cost` computing the cross-entropy cost for a given model. The inputs to the function are: `x_arr` = a numpy array of size $(2,n)$ containing inputs to the model; `y_arr` = a numpy array of size $(1,n)$ containing the correspoding outputs from the data set; `predict_f` = a function handle which represents the model (eg. a function `predict_y1`). Arrange the calculations in a way to avoid numeric errors."
   ]
  },
  {
   "cell_type": "code",
   "execution_count": 125,
   "metadata": {
    "colab": {},
    "colab_type": "code",
    "id": "ufZsPaXDhHT4"
   },
   "outputs": [],
   "source": [
    "def ce_cost(x_arr, y_arr, predict_f):   # cross-entropy cost function \n",
    "    \n",
    "    #y_predict = predict_f(x_arr)\n",
    "    #cost = np.sqrt(np.sum((y_arr - y_predixt)**2, axis=1))  \n",
    "    y_eq_0 = (y_arr==0).nonzero()[1]   # True在nonzero函数中为非0，False对应0\n",
    "    y_eq_1 = (y_arr==1).nonzero()[1] \n",
    "    a = predict_f(x_arr)\n",
    "    cost = np.sum( -np.log2(a[0][y_eq_1])) + np.sum( -np.log2(1-a[0][y_eq_0]))     # cost = sum(-log(a)) + sum(-log(1-a))   np.log(np.e) = 1\n",
    "\n",
    "    return cost"
   ]
  },
  {
   "cell_type": "markdown",
   "metadata": {
    "colab_type": "text",
    "id": "8_fE5u59eKcZ"
   },
   "source": [
    "\n",
    "We plot the decision boundaries, i.e., the set $\\{\\vec{x} \\colon a(\\vec{x})=0.5\\}$,of the implemented model and compute the value of the cost function. The cost for the initial parameters `w` should be $35.831$.\n",
    "\n"
   ]
  },
  {
   "cell_type": "code",
   "execution_count": 126,
   "metadata": {
    "colab": {},
    "colab_type": "code",
    "id": "GAIBECL2ewSx"
   },
   "outputs": [
    {
     "name": "stdout",
     "output_type": "stream",
     "text": [
      "cost: 35.831\n"
     ]
    },
    {
     "data": {
      "image/png": "[encoded data removed]",
      "text/plain": [
       "<Figure size 432x288 with 1 Axes>"
      ]
     },
     "metadata": {
      "needs_background": "light"
     },
     "output_type": "display_data"
    }
   ],
   "source": [
    "DataSet.plot_decision_boundary(predict_y1)\n",
    "print('cost: %.3f' % ce_cost(x_D, y_D, predict_y1))\n"
   ]
  },
  {
   "cell_type": "markdown",
   "metadata": {
    "colab_type": "text",
    "id": "9M_Fbp6Pg60w"
   },
   "source": [
    "4. Compute the gradient for the current set of parameters. The gradient should be a vector of the same size as the vector `w` and should contain partial derivatives for the correspoding parameters. When correctly implemented you should obtain a vector $\\nabla  w \\approx [0.99, -13.58, -14.33]^T$"
   ]
  },
  {
   "cell_type": "code",
   "execution_count": 127,
   "metadata": {
    "colab": {},
    "colab_type": "code",
    "id": "h1L6zEi9hH0R"
   },
   "outputs": [
    {
     "name": "stdout",
     "output_type": "stream",
     "text": [
      "[[  0.99136]\n",
      " [-13.57827]\n",
      " [-14.32925]]\n"
     ]
    }
   ],
   "source": [
    "x_train = (x_D - mean_x) / stdd_x\n",
    "x_train = np.vstack((np.ones((1, x_train.shape[1])), x_train))\n",
    "a = predict_y1(x_D)\n",
    "grad_w = np.dot(x_train, (a - y_D).T)        #梯度下降计算公式：grad_w = sum( (a - y)x )\n",
    "\n",
    "print(grad_w)"
   ]
  },
  {
   "cell_type": "markdown",
   "metadata": {
    "colab_type": "text",
    "id": "m-E5n3nUslY_"
   },
   "source": [
    "5. Implement the gradient descent. You have to update `w` iterativley using the computed gradients. Note that `w` is a global variable used in the predicting function. Thus updating `w` automatically updates the predicting function. Use learning rate $\\approx 0.01$ and $\\approx 1000$ update steps."
   ]
  },
  {
   "cell_type": "code",
   "execution_count": 128,
   "metadata": {
    "colab": {},
    "colab_type": "code",
    "id": "czSPUDHYsnLO"
   },
   "outputs": [],
   "source": [
    "x_train = (x_D - mean_x) / stdd_x\n",
    "x_train = np.vstack((np.ones((1, x_train.shape[1])), x_train))\n",
    "\n",
    "for i in range(1000):\n",
    "    a = predict_y1(x_D)\n",
    "    grad_w = np.dot(x_train, (a - y_D).T)\n",
    "    w = w - 0.01 * grad_w  "
   ]
  },
  {
   "cell_type": "markdown",
   "metadata": {
    "colab_type": "text",
    "id": "B_pv7lwos00X"
   },
   "source": [
    "We plot the model and compute the cost. Expected cost: $\\approx 1.57$"
   ]
  },
  {
   "cell_type": "code",
   "execution_count": 129,
   "metadata": {
    "colab": {},
    "colab_type": "code",
    "id": "mtiQpI9Ps1nw"
   },
   "outputs": [
    {
     "name": "stdout",
     "output_type": "stream",
     "text": [
      "cost: 1.573\n"
     ]
    },
    {
     "data": {
      "image/png": "[encoded data removed]",
      "text/plain": [
       "<Figure size 432x288 with 1 Axes>"
      ]
     },
     "metadata": {
      "needs_background": "light"
     },
     "output_type": "display_data"
    }
   ],
   "source": [
    "DataSet.plot_decision_boundary(predict_y1)\n",
    "print('cost: %.3f' % ce_cost(x_D, y_D, predict_y1))"
   ]
  },
  {
   "cell_type": "markdown",
   "metadata": {
    "colab_type": "text",
    "id": "FJZUGbSYtG9O"
   },
   "source": [
    "## Problem 2 - Modeling Non-linear Boundaries\n",
    "In this section we will extend our model to include non-linear functions of the input data. This modification greatly improves the variety of the decision boundaries which can be generated. It is similar to the approach taken in the first problem set. Recall our input data in the training set are\n",
    "\\begin{align}\n",
    "\\begin{bmatrix}\n",
    "&x_{(1),1} &\\dots &x_{(1),N}\\\\\n",
    "&x_{(2),1} &\\dots &x_{(2),N}\\\\\n",
    "\\end{bmatrix}.\n",
    "\\end{align}\n",
    "Now, we would like to perform regression also with respect to non-linear functions of this input variables. We will introduce polynomial terms up to degree $P$. In the two-dimensional case we get more terms because of the cross terms, e.g., for $P=3$ we have $9$ terms: $x_{(1)}, x_{(2)}, x_{(1)}^2, x_{(1)}x_{(2)}, x_{(2)}^2, x_{(1)}^3, x_{(1)}^2x_{(2)}, x_{(1)}x_{(2)}^2, x_{(2)}^3$ and the output matrix will be of size $10 \\times N$. We extend the data in the following way:\n",
    "\t\\begin{align}\n",
    "\t\\begin{bmatrix}\n",
    "\t&x_{(1),1} \t\t\t&\\dots \t&x_{(1),N} \\\\\n",
    "\t&x_{(2),1} \t\t\t&\\dots \t&x_{(2),N} \\\\\n",
    "  &x_{(1),1}^2 &\\dots \t&x_{(1),N}^2\\\\\n",
    "  &x_{(1),1}x_{(2),1} &\\dots \t&x_{(1),N}x_{(2),N}\\\\\n",
    "  &x_{(2),1}^2 &\\dots \t&x_{(2),N}^2\\\\\n",
    "\t&\\vdots \t\t\t&\t\t&\\vdots \\\\\n",
    "\t&x_{(1),1}x_{(2),1}^{P-1} \t&\\dots \t&x_{(1),N}x_{(2),N}^{P-1}\\\\\n",
    "\t&x_{(2),1}^P \t\t&\\dots \t&x_{(2),N}^P\\\\\n",
    "\t\\end{bmatrix}.\n",
    "\t\\end{align}\n",
    "  Of course $\\vec{w}$ should have now the corresponding number entries, and the data normalization should be with respect to  the newly generated matrix $\\mat{X}_{\\text{data}}$. $P$ should be a parameter which you can change. Note that for $P=1$ we have the same model as in the previous problem."
   ]
  },
  {
   "cell_type": "markdown",
   "metadata": {
    "colab_type": "text",
    "id": "D-9L-rge1ra0"
   },
   "source": [
    "1. Implement the function `extend_data2D` which takes as an imput the numpy array of size $(2,n)$, e.g., the base array $X_\\text{data}$, and returns  the extended array of size  $(?,n)$ as explained above. The function should take a parameter $p$ denoting the highest power in the array."
   ]
  },
  {
   "cell_type": "code",
   "execution_count": 130,
   "metadata": {
    "colab": {},
    "colab_type": "code",
    "id": "MQHrzCSl2C20"
   },
   "outputs": [],
   "source": [
    "def extend_data2D(x, p):           #对于range(1,n)范围不含n;  range(n) 范围从0-9\n",
    "    #for i in range(1, p+1):\n",
    "            #x_ext = [(x[0,:]**(i-k))*(x[1,:]**k) for k in range(0,i+1)]         #为什么分开写不行？分开写怎样赋值才可？\n",
    "    x_ext = [[(x[0,:]**(i-k))*(x[1,:]**k) for k in range(0,i+1)] for i in range(1, p+1)]\n",
    "    x_e = np.vstack(x_ext)  \n",
    "      \n",
    "    return x_e   "
   ]
  },
  {
   "cell_type": "markdown",
   "metadata": {
    "colab_type": "text",
    "id": "oOaNOJBk4KKi"
   },
   "source": [
    "We set the parameter $P$ to $7$ and compute the parameters needed for normalization."
   ]
  },
  {
   "cell_type": "code",
   "execution_count": 131,
   "metadata": {
    "colab": {},
    "colab_type": "code",
    "id": "V-_9rYzr4XCp",
    "scrolled": false
   },
   "outputs": [],
   "source": [
    "P = 7\n",
    "#print(x_D)\n",
    "x_De = extend_data2D(x_D, P)\n",
    "#print(x_De)\n",
    "x_De_mean, x_De_stdd = get_norm_params(x_De)\n",
    "\n"
   ]
  },
  {
   "cell_type": "markdown",
   "metadata": {
    "colab_type": "text",
    "id": "fKeKvoUZz8LM"
   },
   "source": [
    "2. Initialize the variable `w` which contains the model parameters. The dimiension of `w` should depend on the parameter P. The entires of `w` should satisfy:$w_i=0.1$."
   ]
  },
  {
   "cell_type": "code",
   "execution_count": 132,
   "metadata": {
    "colab": {},
    "colab_type": "code",
    "id": "J6vefUJ80UFE"
   },
   "outputs": [],
   "source": [
    "w = np.array([0.1]*((3+P)*P//2+1)).reshape((-1,1))   # (2 + P+1)*P/2求项数； 还得+1 w0;  //表示取整\n",
    "#print(w)"
   ]
  },
  {
   "cell_type": "markdown",
   "metadata": {
    "colab_type": "text",
    "id": "8PO2Tlkb5Wo8"
   },
   "source": [
    "3. Implement a function `predict_y2`, which takes an array of inputs $[\\vec{x}^{(1)} \\dots \\vec{x}^{(n)}]$ and produces an array of correspoding outputs $[a(\\vec{x}^{(1)}) \\dots a(\\vec{x}^{(n)})]$. Use a linear model with respect to the extended dataset followed by a sigmoid activation function. Note that the outputs should represent the probability that the label is $y$ for the given input, i.e., $a(\\vec{x})=\\Pr[y=1|\\vec{x}]$. Perform the data normalization using the normalization parameters computed from the training set. The input is a numpy array of size $(2,n)$ and the output is a numpy array of size $(1,n)$. In the function you can use the global variable `w` containing the model parameters (from the previous point). In this case, the model will be automaticly updated when the value of `w` changes"
   ]
  },
  {
   "cell_type": "code",
   "execution_count": 133,
   "metadata": {
    "colab": {},
    "colab_type": "code",
    "id": "4C8VDn9-5XEk"
   },
   "outputs": [],
   "source": [
    "def predict_y2(x_arr):\n",
    "    x = extend_data2D(x_arr, P)\n",
    "    x_norm = (x - x_De_mean) / x_De_stdd\n",
    "    x_pred = np.vstack((np.ones((1,x_norm.shape[1])), x_norm))\n",
    "    z = np.dot(w.T, x_pred)\n",
    "    a = 1/(1+np.exp(-z))\n",
    "    \n",
    "    return a "
   ]
  },
  {
   "cell_type": "markdown",
   "metadata": {
    "colab_type": "text",
    "id": "S45pW-gu6I9C"
   },
   "source": [
    "We plot the model and compute the cost. Expected cost: $\\approx 22$"
   ]
  },
  {
   "cell_type": "code",
   "execution_count": 134,
   "metadata": {
    "colab": {},
    "colab_type": "code",
    "id": "WlJYFlxH6MqL"
   },
   "outputs": [
    {
     "name": "stdout",
     "output_type": "stream",
     "text": [
      "cost: 22.031\n"
     ]
    },
    {
     "data": {
      "image/png": "[encoded data removed]",
      "text/plain": [
       "<Figure size 432x288 with 1 Axes>"
      ]
     },
     "metadata": {
      "needs_background": "light"
     },
     "output_type": "display_data"
    }
   ],
   "source": [
    "DataSet.plot_decision_boundary(predict_y2)\n",
    "print('cost: %.3f' % ce_cost(x_D, y_D, predict_y2))"
   ]
  },
  {
   "cell_type": "markdown",
   "metadata": {
    "colab_type": "text",
    "id": "b00C7SAb7STK"
   },
   "source": [
    "4. Compute the gradient for the current set of parameters. The gradient should be a vector of the same size as the vector `w` and should contain partial derivatives for the correspoding parameters. When correctly implemented you should obtain a vector $\\nabla  w \\approx [-3.66, -5.78, ...]^T$"
   ]
  },
  {
   "cell_type": "code",
   "execution_count": 135,
   "metadata": {
    "colab": {},
    "colab_type": "code",
    "id": "AFTBNAlz7YJD"
   },
   "outputs": [
    {
     "name": "stdout",
     "output_type": "stream",
     "text": [
      "[[-3.65861]\n",
      " [-5.78313]\n",
      " [-7.39182]\n",
      " [-2.85953]\n",
      " [-5.39512]\n",
      " [-3.9898 ]\n",
      " [-1.70739]\n",
      " [-2.92871]\n",
      " [-2.18082]\n",
      " [-3.15033]\n",
      " [-0.65461]\n",
      " [-1.51933]\n",
      " [-0.70869]\n",
      " [-1.38518]\n",
      " [-1.10615]\n",
      " [-0.15907]\n",
      " [-0.62032]\n",
      " [-0.01283]\n",
      " [-0.37259]\n",
      " [-0.17745]\n",
      " [-0.64749]\n",
      " [ 0.17876]\n",
      " [-0.09359]\n",
      " [ 0.38395]\n",
      " [ 0.11875]\n",
      " [ 0.29363]\n",
      " [ 0.03779]\n",
      " [ 0.00344]\n",
      " [ 0.36748]\n",
      " [ 0.24274]\n",
      " [ 0.59146]\n",
      " [ 0.39037]\n",
      " [ 0.50495]\n",
      " [ 0.3548 ]\n",
      " [ 0.36041]\n",
      " [ 0.17708]]\n"
     ]
    }
   ],
   "source": [
    "x_train = (x_De - x_De_mean) / x_De_stdd\n",
    "x_train = np.vstack((np.ones((1,x_train.shape[1])), x_train))\n",
    "a1 = predict_y2(x_D)\n",
    "grad_w = np.dot(x_train, (a1-y_D).T)\n",
    "\n",
    "print(grad_w)"
   ]
  },
  {
   "cell_type": "markdown",
   "metadata": {
    "colab_type": "text",
    "id": "hu06v_AR7mT5"
   },
   "source": [
    "5. Implement the gradient descent. You have to update `w` iterativley using the computed gradients. Note that `w` is a global variable used in the predicting function. Thus updating `w` automatically updates the predicting function. Use learning rate $\\approx 0.3$ and $\\approx 30000$ update steps."
   ]
  },
  {
   "cell_type": "code",
   "execution_count": 136,
   "metadata": {
    "colab": {},
    "colab_type": "code",
    "id": "zhMEuZ3c7r3a"
   },
   "outputs": [],
   "source": [
    "x_train = (x_De - x_De_mean) / x_De_stdd\n",
    "x_train = np.vstack((np.ones((1,x_train.shape[1])), x_train))\n",
    "\n",
    "for i in range(30000):\n",
    "    a1 = predict_y2(x_D)\n",
    "    grad_w = np.dot(x_train, (a1-y_D).T)\n",
    "    w = w - 0.3 * grad_w"
   ]
  },
  {
   "cell_type": "markdown",
   "metadata": {
    "colab_type": "text",
    "id": "dxLohJ3V8Csa"
   },
   "source": [
    "We plot the model and compute the cost. Expected cost: $\\approx 0.002$"
   ]
  },
  {
   "cell_type": "code",
   "execution_count": 137,
   "metadata": {
    "colab": {},
    "colab_type": "code",
    "id": "uLSAXy2s8Df7"
   },
   "outputs": [
    {
     "name": "stdout",
     "output_type": "stream",
     "text": [
      "cost: 0.002\n"
     ]
    },
    {
     "data": {
      "image/png": "[encoded data removed]",
      "text/plain": [
       "<Figure size 432x288 with 1 Axes>"
      ]
     },
     "metadata": {
      "needs_background": "light"
     },
     "output_type": "display_data"
    }
   ],
   "source": [
    "DataSet.plot_decision_boundary(predict_y2)\n",
    "print('cost: %.3f' % ce_cost(x_D, y_D, predict_y2))"
   ]
  },
  {
   "cell_type": "markdown",
   "metadata": {
    "colab_type": "text",
    "id": "Mk5SKCuV8uJq"
   },
   "source": [
    "We now import a new data set. Please run the code in the cell below and go back to the begining of  Problem 2. Then re-run the cells. What do you observe?"
   ]
  },
  {
   "cell_type": "code",
   "execution_count": 138,
   "metadata": {
    "colab": {},
    "colab_type": "code",
    "id": "M5ugPZtX8_GT"
   },
   "outputs": [],
   "source": [
    "from dataset2_logreg import DataSet\n",
    "y_D, x_D = DataSet.get_data()\n",
    "\n",
    "\n",
    "#              /\\\n",
    "#             /  \\\n",
    "#            /    \\\n",
    "#              ||\n",
    "#              ||\n",
    "#              ||\n",
    "#              ||\n",
    "\n",
    "# rerun the code with the new data set\n",
    "\n"
   ]
  },
  {
   "cell_type": "markdown",
   "metadata": {
    "colab_type": "text",
    "id": "zZKwzUfCCSnp"
   },
   "source": [
    "## Problem 3 - Regularization\n",
    "\n",
    "The phenomenon from the last figure is called over-fitting. The model is too complex and the model has also \"learned the noise\". The model contains ca. $45$ parameters in  $\\vec{w}$ but the DataSet contains roughly ~$5$-$10$ parameters, so there is still space left for learning \"too much\". We would like to discourage complex model although it achieves better performance (lower cost) - this process is called **regularization**. In the end, we are interested in the performance on the unseen samples, which decreases when a model over-fits.\n",
    "\tWe would like to have a simpler model but still flexible, i.e., keep high value of $P$ (higher $P$ allows for more complex decision boundaries when needed). This can be done by a regularization technieque called **weight decay**. The idea is as follows: we modify the cost function by adding the term $\\lambda \\|\\vec{w}\\|^2$ with some constant $\\lambda \\ge 0$. This introduces penalty for using parameters with higher magnitude, thus it limits our parameter space and encourages simpler models. Higher value of $\\lambda$ penalize $\\|\\vec{w}\\|^2$ more and result in simpler models. We use the modified cost function to train the model (modification of the cost function results in different gradients). In practice we do not penalize large values of the bias term, that is, $w_0$.The cost function from which we derive the gradients is  now:\n",
    "\t$$\\sum_{i=1}^{N} \\left\\{  -y_{i} \\log(a(\\vec{x}_i))  -(1-y_i)\\log(1-a(\\vec{x}_i))\\right\\} + \\lambda \\|\\vec{w}_{1:}\\|^2,$$\n",
    " with $\\vec{w} = [w_0 \\vec{w}_{1:}]$ (the bias term is not included in the new cost function). We are going to use the model from the previous exercise but the training will be done with the regularization."
   ]
  },
  {
   "cell_type": "markdown",
   "metadata": {
    "colab_type": "text",
    "id": "Tb7BX0w_Mxoy"
   },
   "source": [
    "1. Initialize w to a vector of values $0.1$. Derive the formula for the gradient using the regularized cost function and compute the gradient. We initialize the constant $\\lambda$ to $0.08$. When everything is done correctly gradinet should be $\\nabla  w \\approx [0.03, 9.27, 8.47,...]^T$"
   ]
  },
  {
   "cell_type": "code",
   "execution_count": 140,
   "metadata": {
    "colab": {},
    "colab_type": "code",
    "id": "fcbUG3jFNOFq"
   },
   "outputs": [
    {
     "name": "stdout",
     "output_type": "stream",
     "text": [
      "[[  0.02709]\n",
      " [  9.27137]\n",
      " [  8.4741 ]\n",
      " [-15.05278]\n",
      " [ -1.94707]\n",
      " [-20.50985]\n",
      " [  4.29449]\n",
      " [  8.43441]\n",
      " [ 11.2194 ]\n",
      " [  8.99919]\n",
      " [ -7.44116]\n",
      " [ -2.49246]\n",
      " [-16.17223]\n",
      " [ -4.90081]\n",
      " [-15.00272]\n",
      " [  2.39816]\n",
      " [  6.33814]\n",
      " [  9.57878]\n",
      " [  8.8667 ]\n",
      " [  9.58275]\n",
      " [  9.23262]\n",
      " [ -3.57106]\n",
      " [ -2.67767]\n",
      " [-13.27346]\n",
      " [ -6.19621]\n",
      " [-11.5901 ]\n",
      " [ -6.99494]\n",
      " [-11.77237]\n",
      " [  1.41795]\n",
      " [  3.65391]\n",
      " [  8.63921]\n",
      " [  9.15029]\n",
      " [  9.11147]\n",
      " [  8.66655]\n",
      " [  8.93067]\n",
      " [  9.18095]]\n"
     ]
    }
   ],
   "source": [
    "lbd = 0.08\n",
    "\n",
    "w = np.array([0.1]*((P*(P+3))//2 +1)).reshape((-1,1))\n",
    "\n",
    "\n",
    "x_train = extend_data2D(x_D, P)\n",
    "x_De_mean, x_De_stdd = get_norm_params(x_train)\n",
    "\n",
    "x_train = (x_train - x_De_mean)/x_De_stdd    #答案中掉了！！！\n",
    "x_train = np.vstack((np.ones((1,x_train.shape[1])), x_train))\n",
    "a1 = predict_y2(x_D)\n",
    "grad_reg = 2*lbd*w       #𝜆||w||2 的导数-- 2𝜆w  ？？？\n",
    "grad_reg[0][0] = 0\n",
    "grad_w = np.dot(x_train, (a1-y_D).T) + grad_reg\n",
    "\n",
    "\n",
    "print(grad_w)"
   ]
  },
  {
   "cell_type": "markdown",
   "metadata": {
    "colab_type": "text",
    "id": "A1GNHEGyO25g"
   },
   "source": [
    "2. Implement the gradient descent using the gradients from the regularized cost function. You have to update `w` iterativley using the computed gradients. Note that `w` is a global variable used in the predicting function. Thus updating `w` automatically updates the predicting function. Use learning rate $\\approx 0.1$ and $\\approx 30000$ update steps."
   ]
  },
  {
   "cell_type": "code",
   "execution_count": 141,
   "metadata": {
    "colab": {},
    "colab_type": "code",
    "id": "jnIecVe7PBjh"
   },
   "outputs": [],
   "source": [
    "x_train = extend_data2D(x_D, P)\n",
    "x_De_mean, x_De_stdd = get_norm_params(x_train)\n",
    "x_train = (x_train-x_De_mean)/x_De_stdd\n",
    "x_train = np.vstack((np.ones((1,x_train.shape[1])), x_train))\n",
    "\n",
    "for i in range(30000):\n",
    "    a1 = predict_y2(x_D)\n",
    "    grad_reg = 2*lbd*w       #𝜆||w||2 的导数-- 2𝜆w\n",
    "    grad_reg[0][0] = 0\n",
    "    grad_w = np.dot(x_train, (a1-y_D).T) + grad_reg\n",
    "\n",
    "    w = w - 0.1 * grad_w"
   ]
  },
  {
   "cell_type": "markdown",
   "metadata": {
    "colab_type": "text",
    "id": "Ld_sdZpyPRan"
   },
   "source": [
    "We plot the model and compute the cost (using the original cost function). Expected cost: $\\approx 24$"
   ]
  },
  {
   "cell_type": "code",
   "execution_count": 142,
   "metadata": {
    "colab": {},
    "colab_type": "code",
    "id": "0BVQvHAAPSo5"
   },
   "outputs": [
    {
     "name": "stdout",
     "output_type": "stream",
     "text": [
      "cost: 24.143\n"
     ]
    },
    {
     "data": {
      "image/png": "[encoded data removed]",
      "text/plain": [
       "<Figure size 432x288 with 1 Axes>"
      ]
     },
     "metadata": {
      "needs_background": "light"
     },
     "output_type": "display_data"
    }
   ],
   "source": [
    "DataSet.plot_decision_boundary(predict_y2)\n",
    "print('cost: %.3f' % ce_cost(x_D, y_D, predict_y2))"
   ]
  },
  {
   "cell_type": "code",
   "execution_count": null,
   "metadata": {},
   "outputs": [],
   "source": []
  }
 ],
 "metadata": {
  "colab": {
   "collapsed_sections": [],
   "name": "ml4c_ex2.ipynb",
   "provenance": []
  },
  "kernelspec": {
   "display_name": "Python 3",
   "language": "python",
   "name": "python3"
  },
  "language_info": {
   "codemirror_mode": {
    "name": "ipython",
    "version": 3
   },
   "file_extension": ".py",
   "mimetype": "text/x-python",
   "name": "python",
   "nbconvert_exporter": "python",
   "pygments_lexer": "ipython3",
   "version": "3.7.3"
  }
 },
 "nbformat": 4,
 "nbformat_minor": 1
}
